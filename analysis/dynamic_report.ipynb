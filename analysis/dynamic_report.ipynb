{
 "cells": [
  {
   "cell_type": "markdown",
   "metadata": {},
   "source": [
    "# PIKA: Prior Informatics Knowledge Assessment\n",
    "**Author**: [Sondre Sæther Bolland](https://www.uib.no/personer/Sondre.S%C3%A6ther.Bolland)\n",
    "\n",
    "**Institution**: Department of Informatics, University of Bergen\n",
    "\n",
    "**Email**: sondre.bolland@uib.no"
   ]
  },
  {
   "cell_type": "markdown",
   "metadata": {},
   "source": [
    "## Introduction\n",
    "The Prior Informatics Knowledge Assessment is a tool for assessing students’ programming knowledge and skill. The test covers the fundamental elements of introductory programming taught at different universities and university colleges. By testing the students in the concepts found in CS1 we aim for instructors to be better able to develop and adapt their courses to this new found prior knowledge.\n",
    "\n",
    "This Notebook is a dynamic report of the results from 2025, designed to give preliminary findings of the test quickly. The (static) written report will be published sometime fall 2025 here: https://pika-test.org/"
   ]
  },
  {
   "cell_type": "markdown",
   "metadata": {},
   "source": [
    "### Imports"
   ]
  },
  {
   "cell_type": "code",
   "execution_count": 1,
   "metadata": {},
   "outputs": [],
   "source": [
    "import numpy as np\n",
    "import pandas as pd\n",
    "import matplotlib.pyplot as plt\n",
    "from matplotlib.ticker import PercentFormatter\n",
    "from scipy import stats\n",
    "from itertools import product\n",
    "from collections import defaultdict"
   ]
  },
  {
   "cell_type": "markdown",
   "metadata": {},
   "source": [
    "### Data\n",
    "Before using this notebook two python scripts need to be run. A requirement to run these scripts is to have the csv file with the original dataset: `total.csv`. This must be placed in the `data` folder in the main directory (where this Notebook is located).\n",
    "\n",
    "`clean_data.py` cleans certain columns for ambigious data and renames columns for analysis.\n",
    "\n",
    "`grade_submissions.py` grades each question based on the rubric (`rubric.json`)."
   ]
  },
  {
   "cell_type": "code",
   "execution_count": 2,
   "metadata": {},
   "outputs": [
    {
     "name": "stdout",
     "output_type": "stream",
     "text": [
      "Replace all ambigious genders with standardized labels: ['m', 'f'] (other gender identities are not included)\n",
      "11 submissions.\n",
      "Removed all genders that are not in: ['m', 'f']. The other gender identities do not have a large enough sample size for valid statistical analysis.\n",
      "Max score: 78\n",
      "Submissions graded.\n"
     ]
    }
   ],
   "source": [
    "!python clean_data.py\n",
    "!python grade_submissions.py"
   ]
  },
  {
   "cell_type": "markdown",
   "metadata": {},
   "source": [
    "### Dataset"
   ]
  },
  {
   "cell_type": "code",
   "execution_count": 3,
   "metadata": {},
   "outputs": [],
   "source": [
    "# Specify the path of the data file\n",
    "path = \"data/\"\n",
    "filename = path + \"results.csv\"\n",
    "df = pd.read_csv(filename, on_bad_lines=\"skip\", delimiter=\";\", encoding=\"utf8\")\n",
    "\n",
    "# Remove all students who have taken a university level course\n",
    "df = df[(df['uni_course'] == 'no')]\n",
    "\n",
    "# Convert all years to integers\n",
    "df['graduate_year'] = pd.to_numeric(df['graduate_year'], errors='coerce')"
   ]
  },
  {
   "cell_type": "code",
   "execution_count": 4,
   "metadata": {},
   "outputs": [],
   "source": [
    "# Filter by Graduate Year\n",
    "years = [2023, 2024, 2025]\n",
    "#df = df[df['graduate_year'].isin(years)]"
   ]
  },
  {
   "cell_type": "markdown",
   "metadata": {},
   "source": [
    "## Demographics"
   ]
  },
  {
   "cell_type": "code",
   "execution_count": 5,
   "metadata": {},
   "outputs": [
    {
     "name": "stdout",
     "output_type": "stream",
     "text": [
      "The dataset has 1 student submissions.\n"
     ]
    }
   ],
   "source": [
    "# Total number of students\n",
    "print(f\"The dataset has {len(df['Total'])} student submissions.\")"
   ]
  },
  {
   "cell_type": "code",
   "execution_count": 6,
   "metadata": {},
   "outputs": [],
   "source": [
    "def plot_distribution(df, column_name, title=\"Distribution\"):\n",
    "    \"\"\"\n",
    "    Plots a bar chart showing the percentage frequency of individual courses\n",
    "    from a column with comma-separated values.\n",
    "    \"\"\"\n",
    "    # Replace '-' or empty strings with NaN\n",
    "    course_series = df[column_name].replace('-', pd.NA).dropna()\n",
    "\n",
    "    # Split comma-separated values and flatten the list\n",
    "    course_series = course_series.str.lower().str.split(',').explode()\n",
    "\n",
    "    # Strip whitespace\n",
    "    course_series = course_series.str.strip()\n",
    "\n",
    "    # Count frequencies\n",
    "    course_counts = course_series.value_counts()\n",
    "\n",
    "    # Calculate percentages (fraction form)\n",
    "    total = course_counts.sum()\n",
    "    course_percentages = (course_counts / total)\n",
    "\n",
    "    # Plot\n",
    "    ax = course_percentages.plot(kind='bar')\n",
    "    plt.ylabel('Percentage of Students')\n",
    "    plt.title(title)\n",
    "    plt.xticks(rotation=45)\n",
    "\n",
    "    # Format y-axis as percentages with no decimals\n",
    "    ax.yaxis.set_major_formatter(PercentFormatter(xmax=1, decimals=0))\n",
    "\n",
    "    plt.tight_layout()\n",
    "    plt.show()"
   ]
  },
  {
   "cell_type": "markdown",
   "metadata": {},
   "source": [
    "\n",
    "### Institutions"
   ]
  },
  {
   "cell_type": "code",
   "execution_count": 7,
   "metadata": {},
   "outputs": [
    {
     "ename": "KeyError",
     "evalue": "'institution'",
     "output_type": "error",
     "traceback": [
      "\u001b[31m---------------------------------------------------------------------------\u001b[39m",
      "\u001b[31mKeyError\u001b[39m                                  Traceback (most recent call last)",
      "\u001b[36mFile \u001b[39m\u001b[32m~\\AppData\\Roaming\\Python\\Python312\\site-packages\\pandas\\core\\indexes\\base.py:3805\u001b[39m, in \u001b[36mIndex.get_loc\u001b[39m\u001b[34m(self, key)\u001b[39m\n\u001b[32m   3804\u001b[39m \u001b[38;5;28;01mtry\u001b[39;00m:\n\u001b[32m-> \u001b[39m\u001b[32m3805\u001b[39m     \u001b[38;5;28;01mreturn\u001b[39;00m \u001b[38;5;28;43mself\u001b[39;49m\u001b[43m.\u001b[49m\u001b[43m_engine\u001b[49m\u001b[43m.\u001b[49m\u001b[43mget_loc\u001b[49m\u001b[43m(\u001b[49m\u001b[43mcasted_key\u001b[49m\u001b[43m)\u001b[49m\n\u001b[32m   3806\u001b[39m \u001b[38;5;28;01mexcept\u001b[39;00m \u001b[38;5;167;01mKeyError\u001b[39;00m \u001b[38;5;28;01mas\u001b[39;00m err:\n",
      "\u001b[36mFile \u001b[39m\u001b[32mindex.pyx:167\u001b[39m, in \u001b[36mpandas._libs.index.IndexEngine.get_loc\u001b[39m\u001b[34m()\u001b[39m\n",
      "\u001b[36mFile \u001b[39m\u001b[32mindex.pyx:196\u001b[39m, in \u001b[36mpandas._libs.index.IndexEngine.get_loc\u001b[39m\u001b[34m()\u001b[39m\n",
      "\u001b[36mFile \u001b[39m\u001b[32mpandas\\\\_libs\\\\hashtable_class_helper.pxi:7081\u001b[39m, in \u001b[36mpandas._libs.hashtable.PyObjectHashTable.get_item\u001b[39m\u001b[34m()\u001b[39m\n",
      "\u001b[36mFile \u001b[39m\u001b[32mpandas\\\\_libs\\\\hashtable_class_helper.pxi:7089\u001b[39m, in \u001b[36mpandas._libs.hashtable.PyObjectHashTable.get_item\u001b[39m\u001b[34m()\u001b[39m\n",
      "\u001b[31mKeyError\u001b[39m: 'institution'",
      "\nThe above exception was the direct cause of the following exception:\n",
      "\u001b[31mKeyError\u001b[39m                                  Traceback (most recent call last)",
      "\u001b[36mCell\u001b[39m\u001b[36m \u001b[39m\u001b[32mIn[7]\u001b[39m\u001b[32m, line 3\u001b[39m\n\u001b[32m      1\u001b[39m institution_column = \u001b[33m\"\u001b[39m\u001b[33minstitution\u001b[39m\u001b[33m\"\u001b[39m\n\u001b[32m----> \u001b[39m\u001b[32m3\u001b[39m \u001b[38;5;28mprint\u001b[39m(\u001b[43mdf\u001b[49m\u001b[43m[\u001b[49m\u001b[43minstitution_column\u001b[49m\u001b[43m]\u001b[49m.value_counts())\n\u001b[32m      4\u001b[39m df[institution_column].value_counts().plot.pie()\n",
      "\u001b[36mFile \u001b[39m\u001b[32m~\\AppData\\Roaming\\Python\\Python312\\site-packages\\pandas\\core\\frame.py:4102\u001b[39m, in \u001b[36mDataFrame.__getitem__\u001b[39m\u001b[34m(self, key)\u001b[39m\n\u001b[32m   4100\u001b[39m \u001b[38;5;28;01mif\u001b[39;00m \u001b[38;5;28mself\u001b[39m.columns.nlevels > \u001b[32m1\u001b[39m:\n\u001b[32m   4101\u001b[39m     \u001b[38;5;28;01mreturn\u001b[39;00m \u001b[38;5;28mself\u001b[39m._getitem_multilevel(key)\n\u001b[32m-> \u001b[39m\u001b[32m4102\u001b[39m indexer = \u001b[38;5;28;43mself\u001b[39;49m\u001b[43m.\u001b[49m\u001b[43mcolumns\u001b[49m\u001b[43m.\u001b[49m\u001b[43mget_loc\u001b[49m\u001b[43m(\u001b[49m\u001b[43mkey\u001b[49m\u001b[43m)\u001b[49m\n\u001b[32m   4103\u001b[39m \u001b[38;5;28;01mif\u001b[39;00m is_integer(indexer):\n\u001b[32m   4104\u001b[39m     indexer = [indexer]\n",
      "\u001b[36mFile \u001b[39m\u001b[32m~\\AppData\\Roaming\\Python\\Python312\\site-packages\\pandas\\core\\indexes\\base.py:3812\u001b[39m, in \u001b[36mIndex.get_loc\u001b[39m\u001b[34m(self, key)\u001b[39m\n\u001b[32m   3807\u001b[39m     \u001b[38;5;28;01mif\u001b[39;00m \u001b[38;5;28misinstance\u001b[39m(casted_key, \u001b[38;5;28mslice\u001b[39m) \u001b[38;5;129;01mor\u001b[39;00m (\n\u001b[32m   3808\u001b[39m         \u001b[38;5;28misinstance\u001b[39m(casted_key, abc.Iterable)\n\u001b[32m   3809\u001b[39m         \u001b[38;5;129;01mand\u001b[39;00m \u001b[38;5;28many\u001b[39m(\u001b[38;5;28misinstance\u001b[39m(x, \u001b[38;5;28mslice\u001b[39m) \u001b[38;5;28;01mfor\u001b[39;00m x \u001b[38;5;129;01min\u001b[39;00m casted_key)\n\u001b[32m   3810\u001b[39m     ):\n\u001b[32m   3811\u001b[39m         \u001b[38;5;28;01mraise\u001b[39;00m InvalidIndexError(key)\n\u001b[32m-> \u001b[39m\u001b[32m3812\u001b[39m     \u001b[38;5;28;01mraise\u001b[39;00m \u001b[38;5;167;01mKeyError\u001b[39;00m(key) \u001b[38;5;28;01mfrom\u001b[39;00m\u001b[38;5;250m \u001b[39m\u001b[34;01merr\u001b[39;00m\n\u001b[32m   3813\u001b[39m \u001b[38;5;28;01mexcept\u001b[39;00m \u001b[38;5;167;01mTypeError\u001b[39;00m:\n\u001b[32m   3814\u001b[39m     \u001b[38;5;66;03m# If we have a listlike key, _check_indexing_error will raise\u001b[39;00m\n\u001b[32m   3815\u001b[39m     \u001b[38;5;66;03m#  InvalidIndexError. Otherwise we fall through and re-raise\u001b[39;00m\n\u001b[32m   3816\u001b[39m     \u001b[38;5;66;03m#  the TypeError.\u001b[39;00m\n\u001b[32m   3817\u001b[39m     \u001b[38;5;28mself\u001b[39m._check_indexing_error(key)\n",
      "\u001b[31mKeyError\u001b[39m: 'institution'"
     ]
    }
   ],
   "source": [
    "institution_column = \"institution\"\n",
    "\n",
    "print(df[institution_column].value_counts())\n",
    "df[institution_column].value_counts().plot.pie()"
   ]
  },
  {
   "cell_type": "markdown",
   "metadata": {},
   "source": [
    "### Graduate Year"
   ]
  },
  {
   "cell_type": "code",
   "execution_count": null,
   "metadata": {},
   "outputs": [
    {
     "name": "stdout",
     "output_type": "stream",
     "text": [
      "graduate_year\n",
      "2019.0    105\n",
      "2024.0    104\n",
      "2021.0    102\n",
      "2022.0    102\n",
      "2023.0     91\n",
      "2020.0      1\n",
      "Name: count, dtype: int64\n"
     ]
    },
    {
     "data": {
      "text/plain": [
       "<Axes: >"
      ]
     },
     "execution_count": 8,
     "metadata": {},
     "output_type": "execute_result"
    },
    {
     "data": {
      "image/png": "[encoded data removed]",
      "text/plain": [
       "<Figure size 640x480 with 1 Axes>"
      ]
     },
     "metadata": {},
     "output_type": "display_data"
    }
   ],
   "source": [
    "graduateyear_column = \"graduate_year\"\n",
    "\n",
    "print(df[graduateyear_column].value_counts())\n",
    "df[graduateyear_column].value_counts().plot.pie(autopct='%1.1f%%', ylabel='')"
   ]
  },
  {
   "cell_type": "markdown",
   "metadata": {},
   "source": [
    "# Educational Background\n",
    "What experiences with programming do these students have? "
   ]
  },
  {
   "cell_type": "markdown",
   "metadata": {},
   "source": [
    "## STEM Courses"
   ]
  },
  {
   "cell_type": "code",
   "execution_count": null,
   "metadata": {},
   "outputs": [
    {
     "data": {
      "image/png": "[encoded data removed]",
      "text/plain": [
       "<Figure size 640x480 with 1 Axes>"
      ]
     },
     "metadata": {},
     "output_type": "display_data"
    }
   ],
   "source": [
    "plot_distribution(df, 'stem_courses', title='STEM Courses Taken')"
   ]
  },
  {
   "cell_type": "markdown",
   "metadata": {},
   "source": [
    "## Elective Programming Courses"
   ]
  },
  {
   "cell_type": "code",
   "execution_count": null,
   "metadata": {},
   "outputs": [
    {
     "data": {
      "image/png": "[encoded data removed]",
      "text/plain": [
       "<Figure size 640x480 with 1 Axes>"
      ]
     },
     "metadata": {},
     "output_type": "display_data"
    }
   ],
   "source": [
    "plot_distribution(df, 'prog_courses', title='Programming Courses Taken')"
   ]
  },
  {
   "cell_type": "markdown",
   "metadata": {},
   "source": [
    "## Math Courses"
   ]
  },
  {
   "cell_type": "code",
   "execution_count": null,
   "metadata": {},
   "outputs": [
    {
     "data": {
      "image/png": "[encoded data removed]",
      "text/plain": [
       "<Figure size 640x480 with 1 Axes>"
      ]
     },
     "metadata": {},
     "output_type": "display_data"
    }
   ],
   "source": [
    "plot_distribution(df, 'math_courses', title='Math Courses Taken')"
   ]
  },
  {
   "cell_type": "markdown",
   "metadata": {},
   "source": [
    "### Experience outside of school\n",
    "A source of programming knowledge is self-directed learning outside of formal education, where individuals independently explore the field, using resources like books and online materials. The following plot shows the distribution of students who report such experience."
   ]
  },
  {
   "cell_type": "code",
   "execution_count": null,
   "metadata": {},
   "outputs": [
    {
     "data": {
      "image/png": "[encoded data removed]",
      "text/plain": [
       "<Figure size 640x480 with 1 Axes>"
      ]
     },
     "metadata": {},
     "output_type": "display_data"
    }
   ],
   "source": [
    "plot_distribution(df, 'other_experience', title='Outside Programming Experience')"
   ]
  },
  {
   "cell_type": "markdown",
   "metadata": {},
   "source": [
    "# Results\n",
    "In this section of the report, the main results are presented before a review of the background the students have on the various study paths and what connection there is between background and results. Later we take a close look at how well they performed in specific programming tasks to understand their grasp of the different concepts."
   ]
  },
  {
   "cell_type": "code",
   "execution_count": null,
   "metadata": {},
   "outputs": [],
   "source": [
    "# Configurations\n",
    "bins = 20\n",
    "max_points = 78 # i.e. range\n",
    "edgecolor = 'black'\n",
    "alpha = 0.5"
   ]
  },
  {
   "cell_type": "code",
   "execution_count": null,
   "metadata": {},
   "outputs": [],
   "source": [
    "# Pseudo median --- Better average for non-normal distributions\n",
    "def hodgesLehmannEstimator(x):\n",
    "    x = x.to_numpy()\n",
    "    n = len(x)\n",
    "    hl = np.zeros(n*(n + 1)//2)\n",
    "    idx = 0\n",
    "    for i in range(n):\n",
    "        for j in range(i+1):\n",
    "            hl[idx] = (x[i] + x[j])/2\n",
    "            idx += 1\n",
    "    return np.median(hl)"
   ]
  },
  {
   "cell_type": "markdown",
   "metadata": {},
   "source": [
    "## Main Result\n",
    "A histogram of the total score of the students. The maximum score has been converted to a scale from 0 to 100, from the original 78 point max."
   ]
  },
  {
   "cell_type": "code",
   "execution_count": null,
   "metadata": {},
   "outputs": [
    {
     "name": "stdout",
     "output_type": "stream",
     "text": [
      "Median: 54.5\n",
      "Standard deviation: 6.321\n"
     ]
    },
    {
     "data": {
      "image/png": "[encoded data removed]",
      "text/plain": [
       "<Figure size 640x480 with 1 Axes>"
      ]
     },
     "metadata": {},
     "output_type": "display_data"
    }
   ],
   "source": [
    "x = df['Total']\n",
    "\n",
    "# Convert scores to percentages relative to the max_points\n",
    "x_percent = (x / max_points) * 100\n",
    "x_label = 'Percentage of Maximum Score'\n",
    "\n",
    "# Calculate mean and standard deviation\n",
    "median = hodgesLehmannEstimator(df['Total'])\n",
    "sd = df['Total'].std()\n",
    "print(f'Median: {round(median, 3)}')\n",
    "print(f'Standard deviation: {round(sd, 3)}')\n",
    "\n",
    "# Plot the histogram\n",
    "plt.hist(x_percent, bins=bins, alpha=alpha, edgecolor=edgecolor, label=x_label, \n",
    "         weights=np.ones(len(x)) / len(x), range=[0, 100])\n",
    "\n",
    "# Set '%' formatter for both x and y axes\n",
    "plt.gca().xaxis.set_major_formatter(PercentFormatter(xmax=100, symbol=''))\n",
    "plt.gca().yaxis.set_major_formatter(PercentFormatter(1))\n",
    "\n",
    "# Add x and y axis labels\n",
    "plt.xlabel('Score')  # Label for the x-axis\n",
    "plt.ylabel('Percentage of students')  # Label for the y-axis\n",
    "\n",
    "# Adjust margins and display the plot\n",
    "plt.margins(x=0.0001)\n",
    "fig = plt.gcf()\n",
    "plt.show()\n",
    "\n",
    "# Save the figure\n",
    "fig.savefig('plots/allHist_percentage.png', dpi=300, bbox_inches='tight')"
   ]
  },
  {
   "cell_type": "markdown",
   "metadata": {},
   "source": [
    "### Did the students find the test hard?\n",
    "We asked the students to rate the test's difficulty on a Likert scale from 1 (very easy) to 7 (very hard)"
   ]
  },
  {
   "cell_type": "code",
   "execution_count": null,
   "metadata": {},
   "outputs": [],
   "source": [
    "def plot_likert_distribution(df, column_name, title=\"Likert Scale Distribution\"):\n",
    "    \"\"\"\n",
    "    Maps numeric Likert scale values to their text descriptors and plots a bar chart showing percentages.\n",
    "    \"\"\"\n",
    "    # Mapping from keys to descriptors\n",
    "    likert_map = {\n",
    "        -2: \"Very easy\",\n",
    "        -1: \"Easy\",\n",
    "         0: \"Neutral\",\n",
    "         1: \"Difficult\",\n",
    "         2: \"Very difficult\"\n",
    "    }\n",
    "\n",
    "    # Convert column to numeric if needed\n",
    "    data = pd.to_numeric(df[column_name], errors='coerce')\n",
    "\n",
    "    # Map numeric values to text\n",
    "    labels = data.map(likert_map)\n",
    "\n",
    "    # Define desired order\n",
    "    label_order = [\"Very easy\", \"Easy\", \"Neutral\", \"Difficult\", \"Very difficult\"]\n",
    "\n",
    "    # Count and calculate percentages\n",
    "    counts = labels.value_counts(normalize=True).reindex(label_order, fill_value=0)\n",
    "\n",
    "    plt.gca().xaxis.set_major_formatter(PercentFormatter(xmax=100, symbol=''))\n",
    "    plt.gca().yaxis.set_major_formatter(PercentFormatter(1))\n",
    "\n",
    "    # Plot\n",
    "    counts.plot(kind='bar', color='cornflowerblue')\n",
    "    plt.ylabel(\"Percentage of students\")\n",
    "    plt.title(title)\n",
    "    plt.xticks(rotation=30, ha='right')\n",
    "    plt.tight_layout()\n",
    "    plt.show()"
   ]
  },
  {
   "cell_type": "code",
   "execution_count": null,
   "metadata": {},
   "outputs": [
    {
     "data": {
      "image/png": "[encoded data removed]",
      "text/plain": [
       "<Figure size 640x480 with 1 Axes>"
      ]
     },
     "metadata": {},
     "output_type": "display_data"
    }
   ],
   "source": [
    "plot_likert_distribution(df, 'difficulty', title='Perceived Task Difficulty')"
   ]
  },
  {
   "cell_type": "markdown",
   "metadata": {},
   "source": [
    "# Prior Programming Experience in Secondary School"
   ]
  },
  {
   "cell_type": "code",
   "execution_count": null,
   "metadata": {},
   "outputs": [],
   "source": [
    "# Significance test\n",
    "def significane(group1, group2):\n",
    "    # Perform Mann-Whitney U Test\n",
    "    stat, p_value = stats.ranksums(group1, group2)\n",
    "    \n",
    "    # Print the test statistic and p-value\n",
    "    print(f\"Wilcox Rank-sum test: {stat}\")\n",
    "    print(f\"P-value: {p_value}\")\n",
    "    \n",
    "    # Interpretation of p-value\n",
    "    a = 0.05\n",
    "    if p_value < a:\n",
    "        print(\"Reject the null hypothesis: There is a significant difference between the two groups.\")\n",
    "    else:\n",
    "        print(\"Fail to reject the null hypothesis: There is no significant difference between the two groups.\")"
   ]
  },
  {
   "cell_type": "code",
   "execution_count": null,
   "metadata": {},
   "outputs": [],
   "source": [
    "def compare_distributions(x, y, x_label, y_label, save_figure_name=''):\n",
    "    n = len(x)\n",
    "    average = hodgesLehmannEstimator(x)\n",
    "    sd = x.std()\n",
    "    print(f'N students in {x_label}: {n}')\n",
    "    print(f'Average score of {x_label}: {round(average, 3)}')\n",
    "    print(f'Standard deviation of {x_label}: {round(sd, 3)}')\n",
    "    print()\n",
    "\n",
    "    n = len(y)\n",
    "    mean = hodgesLehmannEstimator(y)\n",
    "    sd = y.std()\n",
    "    print(f'N students in {y_label}: {n}')\n",
    "    print(f'Average score of {y_label}: {round(average, 3)}')\n",
    "    print(f'Standard deviation of {y_label}: {round(sd, 3)}')\n",
    "    \n",
    "    plt.hist(x, bins=bins, alpha=alpha, edgecolor=edgecolor, label=x_label, weights=np.ones(len(x)) / len(x), range=[0, max_points])\n",
    "    plt.hist(y, bins=bins, alpha=alpha, edgecolor=edgecolor, label=y_label, weights=np.ones(len(y)) / len(y), range=[0, max_points])\n",
    "    plt.gca().yaxis.set_major_formatter(PercentFormatter(1, decimals=0))\n",
    "\n",
    "    # Add x and y axis labels\n",
    "    plt.xlabel('Score')  # Label for the x-axis\n",
    "    #plt.ylabel('Percentage of students')  # Label for the y-axis\n",
    "    \n",
    "    plt.margins(x=0.0001)\n",
    "    plt.legend(loc='upper right')\n",
    "    fig = plt.gcf()\n",
    "    plt.show()\n",
    "    if save_figure_name != '':\n",
    "        fig.savefig('plots/'+save_figure_name+'.png', dpi=300, bbox_inches='tight')"
   ]
  },
  {
   "cell_type": "markdown",
   "metadata": {},
   "source": [
    "## Graduation Year"
   ]
  },
  {
   "cell_type": "code",
   "execution_count": null,
   "metadata": {},
   "outputs": [],
   "source": [
    "# The yaer in which students entered university with programming experience from secondary school\n",
    "initial_reformed_university_class_year = 2023"
   ]
  },
  {
   "cell_type": "code",
   "execution_count": null,
   "metadata": {},
   "outputs": [
    {
     "name": "stdout",
     "output_type": "stream",
     "text": [
      "N students in 2023 and later: 195\n",
      "Average score of 2023 and later: 54.5\n",
      "Standard deviation of 2023 and later: 5.532\n",
      "\n",
      "N students in Before 2023: 310\n",
      "Average score of Before 2023: 54.5\n",
      "Standard deviation of Before 2023: 6.046\n"
     ]
    },
    {
     "data": {
      "image/png": "[encoded data removed]",
      "text/plain": [
       "<Figure size 640x480 with 1 Axes>"
      ]
     },
     "metadata": {},
     "output_type": "display_data"
    },
    {
     "name": "stdout",
     "output_type": "stream",
     "text": [
      "Wilcox Rank-sum test: 0.696501408882741\n",
      "P-value: 0.48611487526357544\n",
      "Fail to reject the null hypothesis: There is no significant difference between the two groups.\n"
     ]
    }
   ],
   "source": [
    "years = df['graduate_year']\n",
    "\n",
    "# Select groups based on year\n",
    "x = df[years >= initial_reformed_university_class_year]['Total'].dropna()\n",
    "y = df[years < initial_reformed_university_class_year]['Total'].dropna()\n",
    "\n",
    "x_label = f'{initial_reformed_university_class_year} and later'\n",
    "y_label = f'Before {initial_reformed_university_class_year}'\n",
    "\n",
    "compare_distributions(x, y, x_label, y_label, 'graduateYearHist')\n",
    "significane(x, y)"
   ]
  },
  {
   "cell_type": "markdown",
   "metadata": {},
   "source": [
    "### Course combinations\n",
    "Here we show the average score of all student groups based on course selection, i.e. mathematics, STEM and programming courses they completed in secondary school."
   ]
  },
  {
   "cell_type": "code",
   "execution_count": null,
   "metadata": {},
   "outputs": [
    {
     "data": {
      "text/html": [
       "<div>\n",
       "<style scoped>\n",
       "    .dataframe tbody tr th:only-of-type {\n",
       "        vertical-align: middle;\n",
       "    }\n",
       "\n",
       "    .dataframe tbody tr th {\n",
       "        vertical-align: top;\n",
       "    }\n",
       "\n",
       "    .dataframe thead th {\n",
       "        text-align: right;\n",
       "    }\n",
       "</style>\n",
       "<table border=\"1\" class=\"dataframe\">\n",
       "  <thead>\n",
       "    <tr style=\"text-align: right;\">\n",
       "      <th></th>\n",
       "      <th>math_course</th>\n",
       "      <th>stem_course</th>\n",
       "      <th>prog_course</th>\n",
       "      <th>n</th>\n",
       "      <th>average</th>\n",
       "    </tr>\n",
       "  </thead>\n",
       "  <tbody>\n",
       "    <tr>\n",
       "      <th>0</th>\n",
       "      <td>1P</td>\n",
       "      <td>geo2</td>\n",
       "      <td>IT1</td>\n",
       "      <td>32</td>\n",
       "      <td>54.5</td>\n",
       "    </tr>\n",
       "    <tr>\n",
       "      <th>1</th>\n",
       "      <td>1P</td>\n",
       "      <td>tof1</td>\n",
       "      <td>IT1</td>\n",
       "      <td>32</td>\n",
       "      <td>54.5</td>\n",
       "    </tr>\n",
       "    <tr>\n",
       "      <th>2</th>\n",
       "      <td>2P</td>\n",
       "      <td>geo2</td>\n",
       "      <td>IT1</td>\n",
       "      <td>32</td>\n",
       "      <td>54.5</td>\n",
       "    </tr>\n",
       "    <tr>\n",
       "      <th>3</th>\n",
       "      <td>2P</td>\n",
       "      <td>tof1</td>\n",
       "      <td>IT1</td>\n",
       "      <td>32</td>\n",
       "      <td>54.5</td>\n",
       "    </tr>\n",
       "    <tr>\n",
       "      <th>4</th>\n",
       "      <td>S1</td>\n",
       "      <td>geo2</td>\n",
       "      <td>IT1</td>\n",
       "      <td>30</td>\n",
       "      <td>54.5</td>\n",
       "    </tr>\n",
       "    <tr>\n",
       "      <th>5</th>\n",
       "      <td>S1</td>\n",
       "      <td>tof1</td>\n",
       "      <td>IT1</td>\n",
       "      <td>30</td>\n",
       "      <td>54.5</td>\n",
       "    </tr>\n",
       "    <tr>\n",
       "      <th>6</th>\n",
       "      <td>S2</td>\n",
       "      <td>geo2</td>\n",
       "      <td>IT1</td>\n",
       "      <td>30</td>\n",
       "      <td>54.5</td>\n",
       "    </tr>\n",
       "    <tr>\n",
       "      <th>7</th>\n",
       "      <td>S2</td>\n",
       "      <td>tof1</td>\n",
       "      <td>IT1</td>\n",
       "      <td>30</td>\n",
       "      <td>54.5</td>\n",
       "    </tr>\n",
       "  </tbody>\n",
       "</table>\n",
       "</div>"
      ],
      "text/plain": [
       "  math_course stem_course prog_course   n  average\n",
       "0          1P        geo2         IT1  32     54.5\n",
       "1          1P        tof1         IT1  32     54.5\n",
       "2          2P        geo2         IT1  32     54.5\n",
       "3          2P        tof1         IT1  32     54.5\n",
       "4          S1        geo2         IT1  30     54.5\n",
       "5          S1        tof1         IT1  30     54.5\n",
       "6          S2        geo2         IT1  30     54.5\n",
       "7          S2        tof1         IT1  30     54.5"
      ]
     },
     "metadata": {},
     "output_type": "display_data"
    }
   ],
   "source": [
    "# Expand each of the three course columns into sets\n",
    "def expand_course_column(df, col):\n",
    "    return df[col].fillna('').apply(lambda x: set(x.split(',')) if x else set())\n",
    "\n",
    "df['math_courses_set'] = expand_course_column(df, 'math_courses')\n",
    "df['stem_courses_set'] = expand_course_column(df, 'stem_courses')\n",
    "df['prog_courses_set'] = expand_course_column(df, 'prog_courses')\n",
    "\n",
    "# Get all unique course values across the dataset\n",
    "unique_math = sorted({course for courses in df['math_courses_set'] for course in courses})\n",
    "unique_stem = sorted({course for courses in df['stem_courses_set'] for course in courses})\n",
    "unique_prog = sorted({course for courses in df['prog_courses_set'] for course in courses})\n",
    "\n",
    "# Store results\n",
    "results = []\n",
    "\n",
    "# Iterate over all possible combinations\n",
    "for math, stem, prog in product(unique_math, unique_stem, unique_prog):\n",
    "    # Filter rows where student has all three course values\n",
    "    mask = df['math_courses_set'].apply(lambda x: math in x) & \\\n",
    "           df['stem_courses_set'].apply(lambda x: stem in x) & \\\n",
    "           df['prog_courses_set'].apply(lambda x: prog in x)\n",
    "    \n",
    "    subset = df[mask]['Total'].dropna()\n",
    "    \n",
    "    if len(subset) >= 30:\n",
    "        avg = hodgesLehmannEstimator(subset)\n",
    "        results.append({\n",
    "            'math_course': math,\n",
    "            'stem_course': stem,\n",
    "            'prog_course': prog,\n",
    "            'n': len(subset),\n",
    "            'average': avg\n",
    "        })\n",
    "\n",
    "# Convert to DataFrame\n",
    "results_df = pd.DataFrame(results)\n",
    "results_df = results_df.sort_values(by='average', ascending=False)\n",
    "display(results_df)"
   ]
  },
  {
   "cell_type": "markdown",
   "metadata": {},
   "source": [
    "# Programming Tasks\n",
    "Each task featured in the test pertained to a designated concept category. The following cells show the number of correct answers and the most common answers for each task."
   ]
  },
  {
   "cell_type": "markdown",
   "metadata": {},
   "source": [
    "## Correctness rate for each concept category\n",
    "Below you can find the percentage of accurate responses achieved by the students for each concept.\n",
    "\n",
    "Note that performance within each category may not exclusively reflect the students’ mastery of that programming concept. Variability in task difficulty plays a substantial role, with some tasks naturally being easier than others, irrespective of the underlying concept."
   ]
  },
  {
   "cell_type": "code",
   "execution_count": null,
   "metadata": {},
   "outputs": [],
   "source": [
    "def correctnes_rate(columns, topic, task_weight=1):\n",
    "    correct_answer_rate = 0\n",
    "    for column in columns:\n",
    "        points_column = column + \"_points\"\n",
    "        task_mean = df.loc[:, points_column].mean()\n",
    "        correct_answer_rate += task_mean\n",
    "    correct_answer_rate /= len(columns)*task_weight\n",
    "    print(f'{topic:15s} {correct_answer_rate*100:3.2f} %')"
   ]
  },
  {
   "cell_type": "code",
   "execution_count": null,
   "metadata": {},
   "outputs": [
    {
     "name": "stdout",
     "output_type": "stream",
     "text": [
      "78 tasks\n"
     ]
    }
   ],
   "source": [
    "# Expressions\n",
    "expression_tasks = []\n",
    "for i in range(1, 7):\n",
    "    expression_tasks.append(f'expressions{i}')\n",
    "\n",
    "# Variables\n",
    "variable_tasks = []\n",
    "for i in range(1, 6):\n",
    "    variable_tasks.append(f'variables{i}a')\n",
    "    variable_tasks.append(f'variables{i}b')\n",
    "    if i > 3:\n",
    "        variable_tasks.append(f'variables{i}c')\n",
    "        \n",
    "# Booleans\n",
    "alphabet = 'abcdefg'\n",
    "boolean_tasks = []\n",
    "for i in range(1, 6):\n",
    "    for j, letter in enumerate(alphabet):\n",
    "        boolean_tasks.append(f'bool{i}{letter}')\n",
    "        if i == 1 and j == 3:\n",
    "            break\n",
    "        if i == 3 and j == 3:\n",
    "            break\n",
    "        if i == 4 and j == 4:\n",
    "            break\n",
    "        if i == 5 and j == 4:\n",
    "            break\n",
    "boolean_tasks.append('bool6')\n",
    "\n",
    "# Lists\n",
    "list_tasks = []\n",
    "for i in range(1, 7):\n",
    "    if i < 5:\n",
    "        list_tasks.append(f'lists{i}')\n",
    "    else:\n",
    "        list_tasks.append(f'lists{i}a')\n",
    "        list_tasks.append(f'lists{i}b')\n",
    "\n",
    "\n",
    "# Conditionals\n",
    "conditional_tasks = []\n",
    "for i in range(1, 6):\n",
    "    conditional_tasks.append(f'conditionals{i}')\n",
    "\n",
    "# Loops\n",
    "loop_tasks = []\n",
    "for i in range(1, 12):\n",
    "    loop_tasks.append(f'loops{i}')\n",
    "\n",
    "# Functions\n",
    "function_tasks = []\n",
    "for i in range(1, 6):\n",
    "    function_tasks.append(f'functions{i}')\n",
    "function_tasks.append('functions6a')\n",
    "function_tasks.append('functions6b')\n",
    "function_tasks.append('functions7a')\n",
    "function_tasks.append('functions7b')\n",
    "function_tasks.append('functions7c')\n",
    "\n",
    "all_tasks = expression_tasks + variable_tasks + boolean_tasks + list_tasks + conditional_tasks + loop_tasks + function_tasks\n",
    "#print(all_tasks)\n",
    "print(f'{len(all_tasks)} tasks')"
   ]
  },
  {
   "cell_type": "code",
   "execution_count": null,
   "metadata": {},
   "outputs": [
    {
     "name": "stdout",
     "output_type": "stream",
     "text": [
      "The students have the following average correctness rate for each programming topic:\n",
      "Expressions     70.03 %\n",
      "Variables       68.81 %\n",
      "Booleans        69.09 %\n",
      "Lists           69.37 %\n",
      "Conditionals    68.74 %\n",
      "Loops           70.34 %\n",
      "Functions       70.55 %\n"
     ]
    }
   ],
   "source": [
    "print(\"The students have the following average correctness rate for each programming topic:\")\n",
    "correctnes_rate(expression_tasks, \"Expressions\")\n",
    "correctnes_rate(variable_tasks, \"Variables\")\n",
    "correctnes_rate(boolean_tasks, \"Booleans\")\n",
    "correctnes_rate(list_tasks, \"Lists\")\n",
    "correctnes_rate(conditional_tasks, \"Conditionals\")\n",
    "correctnes_rate(loop_tasks, \"Loops\")\n",
    "correctnes_rate(function_tasks, \"Functions\")"
   ]
  },
  {
   "cell_type": "markdown",
   "metadata": {},
   "source": [
    "# Tasks"
   ]
  },
  {
   "cell_type": "code",
   "execution_count": null,
   "metadata": {},
   "outputs": [],
   "source": [
    "def print_task_result(task_column, df, n_answers=5, verbose_correct_answers=True):\n",
    "    '''\n",
    "    Print number of correct, incorrect and \"I don't know\" responses.\n",
    "    Print the top n most common answers.\n",
    "    '''\n",
    "    task_point_column = task_column + \"_points\"\n",
    "\n",
    "    if verbose_correct_answers:\n",
    "        correct_count = df[task_point_column].eq(1).sum()\n",
    "        incorrect_count = df[task_point_column].eq(0).sum()\n",
    "        idk_count = df[task_column].eq(\"-\").sum()\n",
    "\n",
    "        print(f\"Correct     : {correct_count}\")\n",
    "        print(f\"Incorrect   : {incorrect_count}\")\n",
    "        print(f\"I don't know: {idk_count}\")\n",
    "        print()\n",
    "\n",
    "    print(f\"Top {n_answers} most common answers:\")\n",
    "    try:\n",
    "        print(df[task_column].value_counts().head(n_answers).to_string(header=False))\n",
    "    except:\n",
    "        print(df[task_column].value_counts().to_string(header=False))"
   ]
  },
  {
   "cell_type": "markdown",
   "metadata": {},
   "source": [
    "### Expressions 1\n",
    "What does this program print?\n",
    "```python\n",
    "print(2 + 3)\n",
    "```"
   ]
  },
  {
   "cell_type": "code",
   "execution_count": null,
   "metadata": {},
   "outputs": [
    {
     "name": "stdout",
     "output_type": "stream",
     "text": [
      "Correct     : 371\n",
      "Incorrect   : 135\n",
      "I don't know: 4\n",
      "\n",
      "Top 5 most common answers:\n",
      "5     371\n",
      "7      25\n",
      "1      24\n",
      "99     23\n",
      "0      22\n"
     ]
    }
   ],
   "source": [
    "print_task_result(\"expressions1\", df)"
   ]
  },
  {
   "cell_type": "markdown",
   "metadata": {},
   "source": [
    "### Expressions 2\n",
    "What does this program print?\n",
    "```python\n",
    "a = 12\n",
    "result = a + a\n",
    "\n",
    "print(result)\n",
    "```"
   ]
  },
  {
   "cell_type": "code",
   "execution_count": null,
   "metadata": {},
   "outputs": [
    {
     "name": "stdout",
     "output_type": "stream",
     "text": [
      "Correct     : 346\n",
      "Incorrect   : 160\n",
      "I don't know: 4\n",
      "\n",
      "Top 5 most common answers:\n",
      "24    346\n",
      "42     32\n",
      "1      30\n",
      "0      28\n",
      "7      28\n"
     ]
    }
   ],
   "source": [
    "print_task_result(\"expressions2\", df)"
   ]
  },
  {
   "cell_type": "markdown",
   "metadata": {},
   "source": [
    "### Expressions 3\n",
    "What does this program print?\n",
    "```python\n",
    "a = 6\n",
    "b = 8\n",
    "c = a + b\n",
    "d = c + a\n",
    "\n",
    "print(d)\n",
    "```"
   ]
  },
  {
   "cell_type": "code",
   "execution_count": null,
   "metadata": {},
   "outputs": [
    {
     "name": "stdout",
     "output_type": "stream",
     "text": [
      "Correct     : 340\n",
      "Incorrect   : 166\n",
      "I don't know: 4\n",
      "\n",
      "Top 5 most common answers:\n",
      "20    340\n",
      "13     32\n",
      "99     30\n",
      "0      28\n",
      "1      26\n"
     ]
    }
   ],
   "source": [
    "print_task_result(\"expressions3\", df)"
   ]
  },
  {
   "cell_type": "markdown",
   "metadata": {},
   "source": [
    "### Expressions 4\n",
    "What does this program print?\n",
    "```python\n",
    "n = 0\n",
    "n = n + 1\n",
    "n = n + 1\n",
    "\n",
    "print(n)\n",
    "```"
   ]
  },
  {
   "cell_type": "code",
   "execution_count": null,
   "metadata": {},
   "outputs": [
    {
     "name": "stdout",
     "output_type": "stream",
     "text": [
      "Correct     : 363\n",
      "Incorrect   : 143\n",
      "I don't know: 4\n",
      "\n",
      "Top 5 most common answers:\n",
      "2     363\n",
      "7      30\n",
      "42     25\n",
      "1      25\n",
      "99     23\n"
     ]
    }
   ],
   "source": [
    "print_task_result(\"expressions4\", df)"
   ]
  },
  {
   "cell_type": "markdown",
   "metadata": {},
   "source": [
    "### Expressions 5\n",
    "What does this program print?\n",
    "```python\n",
    "a = '123'\n",
    "result = a + a\n",
    "\n",
    "print(result)\n",
    "```"
   ]
  },
  {
   "cell_type": "code",
   "execution_count": null,
   "metadata": {},
   "outputs": [
    {
     "name": "stdout",
     "output_type": "stream",
     "text": [
      "Correct     : 352\n",
      "Incorrect   : 154\n",
      "I don't know: 4\n",
      "\n",
      "Top 5 most common answers:\n",
      "123123    352\n",
      "0          30\n",
      "13         27\n",
      "1          25\n",
      "7          25\n"
     ]
    }
   ],
   "source": [
    "print_task_result(\"expressions5\", df)"
   ]
  },
  {
   "cell_type": "markdown",
   "metadata": {},
   "source": [
    "### Expressions 6\n",
    "What does this program print?\n",
    "```python\n",
    "n = '1'\n",
    "n = n + '1'\n",
    "n = n + '1'\n",
    "\n",
    "print(n)\n",
    "```"
   ]
  },
  {
   "cell_type": "code",
   "execution_count": null,
   "metadata": {},
   "outputs": [
    {
     "name": "stdout",
     "output_type": "stream",
     "text": [
      "Correct     : 354\n",
      "Incorrect   : 152\n",
      "I don't know: 4\n",
      "\n",
      "Top 5 most common answers:\n",
      "111    354\n",
      "99      29\n",
      "1       29\n",
      "13      26\n",
      "42      23\n"
     ]
    }
   ],
   "source": [
    "print_task_result(\"expressions6\", df)"
   ]
  },
  {
   "cell_type": "markdown",
   "metadata": {},
   "source": [
    "### Variables 1\n",
    "What are the values of `a` and `b`?\n",
    "```python\n",
    "a = 10\n",
    "b = 20\n",
    "\n",
    "a = b\n",
    "```"
   ]
  },
  {
   "cell_type": "code",
   "execution_count": null,
   "metadata": {},
   "outputs": [
    {
     "name": "stdout",
     "output_type": "stream",
     "text": [
      "### Value of a ###\n",
      "Correct     : 358\n",
      "Incorrect   : 148\n",
      "I don't know: 4\n",
      "\n",
      "Top 5 most common answers:\n",
      "20    358\n",
      "7      29\n",
      "0      26\n",
      "42     24\n",
      "99     23\n",
      "\n",
      "### Value of b ###\n",
      "Correct     : 345\n",
      "Incorrect   : 161\n",
      "I don't know: 4\n",
      "\n",
      "Top 5 most common answers:\n",
      "20    345\n",
      "99     33\n",
      "42     31\n",
      "0      30\n",
      "13     24\n"
     ]
    }
   ],
   "source": [
    "print(\"### Value of a ###\")\n",
    "print_task_result(\"variables1a\", df)\n",
    "print(\"\\n### Value of b ###\")\n",
    "print_task_result(\"variables1b\", df)"
   ]
  },
  {
   "cell_type": "markdown",
   "metadata": {},
   "source": [
    "### Variables 2\n",
    "What are the values of `a` and `b`?\n",
    "```python\n",
    "a = 10\n",
    "b = 20\n",
    "\n",
    "b = a\n",
    "```"
   ]
  },
  {
   "cell_type": "code",
   "execution_count": null,
   "metadata": {},
   "outputs": [
    {
     "name": "stdout",
     "output_type": "stream",
     "text": [
      "### Value of a ###\n",
      "Correct     : 356\n",
      "Incorrect   : 150\n",
      "I don't know: 4\n",
      "\n",
      "Top 5 most common answers:\n",
      "10    356\n",
      "1      34\n",
      "0      28\n",
      "13     25\n",
      "42     23\n",
      "\n",
      "### Value of b ###\n",
      "Correct     : 352\n",
      "Incorrect   : 154\n",
      "I don't know: 4\n",
      "\n",
      "Top 5 most common answers:\n",
      "10    352\n",
      "42     36\n",
      "1      25\n",
      "7      24\n",
      "13     24\n"
     ]
    }
   ],
   "source": [
    "print(\"### Value of a ###\")\n",
    "print_task_result(\"variables2a\", df)\n",
    "print(\"\\n### Value of b ###\")\n",
    "print_task_result(\"variables2b\", df)"
   ]
  },
  {
   "cell_type": "markdown",
   "metadata": {},
   "source": [
    "### Variables 3\n",
    "What are the values of `a` and `b`?\n",
    "```python\n",
    "a = 10\n",
    "b = 20\n",
    "\n",
    "a = b\n",
    "b = a\n",
    "```"
   ]
  },
  {
   "cell_type": "code",
   "execution_count": null,
   "metadata": {},
   "outputs": [
    {
     "name": "stdout",
     "output_type": "stream",
     "text": [
      "### Value of a ###\n",
      "Correct     : 331\n",
      "Incorrect   : 175\n",
      "I don't know: 4\n",
      "\n",
      "Top 5 most common answers:\n",
      "20    331\n",
      "7      37\n",
      "99     30\n",
      "1      30\n",
      "42     28\n",
      "\n",
      "### Value of b ###\n",
      "Correct     : 342\n",
      "Incorrect   : 164\n",
      "I don't know: 4\n",
      "\n",
      "Top 5 most common answers:\n",
      "20    342\n",
      "99     34\n",
      "7      31\n",
      "0      30\n",
      "42     25\n"
     ]
    }
   ],
   "source": [
    "print(\"### Value of a ###\")\n",
    "print_task_result(\"variables3a\", df)\n",
    "print(\"\\n### Value of b ###\")\n",
    "print_task_result(\"variables3b\", df)"
   ]
  },
  {
   "cell_type": "markdown",
   "metadata": {},
   "source": [
    "### Variables 4\n",
    "What are the values of `a`, `b` and `c`?\n",
    "```python\n",
    "a = 10\n",
    "b = 20\n",
    "c = 30\n",
    "\n",
    "a = b\n",
    "b = c\n",
    "```"
   ]
  },
  {
   "cell_type": "code",
   "execution_count": null,
   "metadata": {},
   "outputs": [
    {
     "name": "stdout",
     "output_type": "stream",
     "text": [
      "### Value of a ###\n",
      "Correct     : 335\n",
      "Incorrect   : 171\n",
      "I don't know: 4\n",
      "\n",
      "Top 5 most common answers:\n",
      "20    335\n",
      "13     33\n",
      "0      29\n",
      "7      27\n",
      "99     27\n",
      "\n",
      "### Value of b ###\n",
      "Correct     : 369\n",
      "Incorrect   : 137\n",
      "I don't know: 4\n",
      "\n",
      "Top 5 most common answers:\n",
      "30    369\n",
      "42     31\n",
      "0      27\n",
      "7      25\n",
      "99     21\n",
      "\n",
      "### Value of c ###\n",
      "Correct     : 359\n",
      "Incorrect   : 147\n",
      "I don't know: 4\n",
      "\n",
      "Top 5 most common answers:\n",
      "30    359\n",
      "99     30\n",
      "0      26\n",
      "42     26\n",
      "13     21\n"
     ]
    }
   ],
   "source": [
    "print(\"### Value of a ###\")\n",
    "print_task_result(\"variables4a\", df)\n",
    "print(\"\\n### Value of b ###\")\n",
    "print_task_result(\"variables4b\", df)\n",
    "print(\"\\n### Value of c ###\")\n",
    "print_task_result(\"variables4c\", df)"
   ]
  },
  {
   "cell_type": "markdown",
   "metadata": {},
   "source": [
    "### Variables 5\n",
    "What are the values of `a`, `b` and `c`?\n",
    "```python\n",
    "a = 10\n",
    "b = 20\n",
    "c = 30\n",
    "\n",
    "a = c\n",
    "b = a\n",
    "c = b\n",
    "```"
   ]
  },
  {
   "cell_type": "code",
   "execution_count": null,
   "metadata": {},
   "outputs": [
    {
     "name": "stdout",
     "output_type": "stream",
     "text": [
      "### Value of a ###\n",
      "Correct     : 340\n",
      "Incorrect   : 166\n",
      "I don't know: 4\n",
      "\n",
      "Top 5 most common answers:\n",
      "30    340\n",
      "0      30\n",
      "7      30\n",
      "99     27\n",
      "1      27\n",
      "\n",
      "### Value of b ###\n",
      "Correct     : 337\n",
      "Incorrect   : 169\n",
      "I don't know: 4\n",
      "\n",
      "Top 5 most common answers:\n",
      "30    337\n",
      "42     40\n",
      "13     31\n",
      "99     27\n",
      "7      26\n",
      "\n",
      "### Value of c ###\n",
      "Correct     : 354\n",
      "Incorrect   : 152\n",
      "I don't know: 4\n",
      "\n",
      "Top 5 most common answers:\n",
      "30    354\n",
      "13     36\n",
      "0      27\n",
      "1      25\n",
      "7      22\n"
     ]
    }
   ],
   "source": [
    "print(\"### Value of a ###\")\n",
    "print_task_result(\"variables5a\", df)\n",
    "print(\"\\n### Value of b ###\")\n",
    "print_task_result(\"variables5b\", df)\n",
    "print(\"\\n### Value of c ###\")\n",
    "print_task_result(\"variables5c\", df)"
   ]
  },
  {
   "cell_type": "markdown",
   "metadata": {},
   "source": [
    "### Booleans 1\n",
    "What are the boolean values of the following expressions?"
   ]
  },
  {
   "cell_type": "code",
   "execution_count": null,
   "metadata": {},
   "outputs": [
    {
     "name": "stdout",
     "output_type": "stream",
     "text": [
      "### 2 > 7 ###\n",
      "Correct     : 363\n",
      "Incorrect   : 143\n",
      "I don't know: 4\n",
      "\n",
      "Top 3 most common answers:\n",
      "False    361\n",
      "true     139\n",
      "-          4\n",
      "\n",
      "### (10 + 3) >= 13 ###\n",
      "Correct     : 377\n",
      "Incorrect   : 129\n",
      "I don't know: 4\n",
      "\n",
      "Top 3 most common answers:\n",
      "True     376\n",
      "false    124\n",
      "-          4\n",
      "\n",
      "### (10 * 2) < 9 ###\n",
      "Correct     : 329\n",
      "Incorrect   : 177\n",
      "I don't know: 4\n",
      "\n",
      "Top 3 most common answers:\n",
      "False    327\n",
      "true     173\n",
      "-          4\n",
      "\n",
      "### (1 + 3) < (2 * 3) ###\n",
      "Correct     : 347\n",
      "Incorrect   : 159\n",
      "I don't know: 4\n",
      "\n",
      "Top 3 most common answers:\n",
      "True     345\n",
      "false    155\n",
      "-          4\n"
     ]
    }
   ],
   "source": [
    "print(\"### 2 > 7 ###\")\n",
    "print_task_result(\"bool1a\", df, n_answers=3)\n",
    "print()\n",
    "print(\"### (10 + 3) >= 13 ###\")\n",
    "print_task_result(\"bool1b\", df, n_answers=3)\n",
    "print()\n",
    "print(\"### (10 * 2) < 9 ###\")\n",
    "print_task_result(\"bool1c\", df, n_answers=3)\n",
    "print()\n",
    "print(\"### (1 + 3) < (2 * 3) ###\")\n",
    "print_task_result(\"bool1d\", df, n_answers=3)"
   ]
  },
  {
   "cell_type": "markdown",
   "metadata": {},
   "source": [
    "### Booleans 2\n",
    "What are the boolean values of the following expressions?"
   ]
  },
  {
   "cell_type": "code",
   "execution_count": null,
   "metadata": {},
   "outputs": [
    {
     "name": "stdout",
     "output_type": "stream",
     "text": [
      "### 100 != 100 ###\n",
      "Correct     : 363\n",
      "Incorrect   : 143\n",
      "I don't know: 4\n",
      "\n",
      "Top 3 most common answers:\n",
      "False    361\n",
      "true     139\n",
      "-          4\n",
      "\n",
      "### (3 < 7) and (7 < 9) ###\n",
      "Correct     : 361\n",
      "Incorrect   : 145\n",
      "I don't know: 4\n",
      "\n",
      "Top 3 most common answers:\n",
      "True     359\n",
      "false    141\n",
      "-          4\n",
      "\n",
      "### (5 < 7) and (4 > 5) ###\n",
      "Correct     : 360\n",
      "Incorrect   : 146\n",
      "I don't know: 4\n",
      "\n",
      "Top 3 most common answers:\n",
      "False    358\n",
      "true     142\n",
      "-          4\n",
      "\n",
      "### (3 < 7) or (7 < 9) ###\n",
      "Correct     : 356\n",
      "Incorrect   : 150\n",
      "I don't know: 4\n",
      "\n",
      "Top 3 most common answers:\n",
      "True     355\n",
      "false    145\n",
      "-          4\n",
      "\n",
      "### (5 < 7) or (4 > 5) ###\n",
      "Correct     : 330\n",
      "Incorrect   : 176\n",
      "I don't know: 4\n",
      "\n",
      "Top 3 most common answers:\n",
      "True     328\n",
      "false    172\n",
      "-          4\n",
      "\n",
      "### not (100 > 100) ###\n",
      "Correct     : 339\n",
      "Incorrect   : 167\n",
      "I don't know: 4\n",
      "\n",
      "Top 3 most common answers:\n",
      "True     338\n",
      "false    162\n",
      "-          4\n",
      "\n",
      "### not (100 != 100) ###\n",
      "Correct     : 349\n",
      "Incorrect   : 157\n",
      "I don't know: 4\n",
      "\n",
      "Top 3 most common answers:\n",
      "True     347\n",
      "false    153\n",
      "-          4\n"
     ]
    }
   ],
   "source": [
    "print(\"### 100 != 100 ###\")\n",
    "print_task_result(\"bool1a\", df, n_answers=3)\n",
    "print()\n",
    "print(\"### (3 < 7) and (7 < 9) ###\")\n",
    "print_task_result(\"bool2b\", df, n_answers=3)\n",
    "print()\n",
    "print(\"### (5 < 7) and (4 > 5) ###\")\n",
    "print_task_result(\"bool2c\", df, n_answers=3)\n",
    "print()\n",
    "print(\"### (3 < 7) or (7 < 9) ###\")\n",
    "print_task_result(\"bool2d\", df, n_answers=3)\n",
    "print()\n",
    "print(\"### (5 < 7) or (4 > 5) ###\")\n",
    "print_task_result(\"bool2e\", df, n_answers=3)\n",
    "print()\n",
    "print(\"### not (100 > 100) ###\")\n",
    "print_task_result(\"bool2f\", df, n_answers=3)\n",
    "print()\n",
    "print(\"### not (100 != 100) ###\")\n",
    "print_task_result(\"bool2g\", df, n_answers=3)"
   ]
  },
  {
   "cell_type": "markdown",
   "metadata": {},
   "source": [
    "### Booleans 3\n",
    "What are the boolean values of the following expressions?"
   ]
  },
  {
   "cell_type": "code",
   "execution_count": null,
   "metadata": {},
   "outputs": [
    {
     "name": "stdout",
     "output_type": "stream",
     "text": [
      "### True or False ###\n",
      "Correct     : 347\n",
      "Incorrect   : 159\n",
      "I don't know: 4\n",
      "\n",
      "Top 3 most common answers:\n",
      "True     346\n",
      "false    154\n",
      "-          4\n",
      "\n",
      "### True and False ###\n",
      "Correct     : 340\n",
      "Incorrect   : 166\n",
      "I don't know: 4\n",
      "\n",
      "Top 3 most common answers:\n",
      "False    338\n",
      "true     162\n",
      "-          4\n",
      "\n",
      "### True == True ###\n",
      "Correct     : 359\n",
      "Incorrect   : 147\n",
      "I don't know: 4\n",
      "\n",
      "Top 3 most common answers:\n",
      "True     357\n",
      "false    143\n",
      "-          4\n",
      "\n",
      "### not (True != True) ###\n",
      "Correct     : 358\n",
      "Incorrect   : 148\n",
      "I don't know: 4\n",
      "\n",
      "Top 3 most common answers:\n",
      "True     356\n",
      "false    144\n",
      "-          4\n"
     ]
    }
   ],
   "source": [
    "print(\"### True or False ###\")\n",
    "print_task_result(\"bool3a\", df, n_answers=3)\n",
    "print()\n",
    "print(\"### True and False ###\")\n",
    "print_task_result(\"bool3b\", df, n_answers=3)\n",
    "print()\n",
    "print(\"### True == True ###\")\n",
    "print_task_result(\"bool3c\", df, n_answers=3)\n",
    "print()\n",
    "print(\"### not (True != True) ###\")\n",
    "print_task_result(\"bool3d\", df, n_answers=3)\n"
   ]
  },
  {
   "cell_type": "markdown",
   "metadata": {},
   "source": [
    "### Booleans 4\n",
    "What are the boolean values of the following expressions?\n",
    "```python\n",
    "n = 5\n",
    "```"
   ]
  },
  {
   "cell_type": "code",
   "execution_count": null,
   "metadata": {},
   "outputs": [
    {
     "name": "stdout",
     "output_type": "stream",
     "text": [
      "### n < 10 ###\n",
      "Correct     : 349\n",
      "Incorrect   : 157\n",
      "I don't know: 4\n",
      "\n",
      "Top 3 most common answers:\n",
      "True     347\n",
      "false    153\n",
      "-          4\n",
      "\n",
      "### 100 == n ###\n",
      "Correct     : 340\n",
      "Incorrect   : 166\n",
      "I don't know: 4\n",
      "\n",
      "Top 3 most common answers:\n",
      "False    338\n",
      "true     162\n",
      "-          4\n",
      "\n",
      "### (n < 7) and (4 > n) ###\n",
      "Correct     : 349\n",
      "Incorrect   : 157\n",
      "I don't know: 4\n",
      "\n",
      "Top 3 most common answers:\n",
      "False    348\n",
      "true     152\n",
      "-          4\n",
      "\n",
      "### n <= 5 ###\n",
      "Correct     : 327\n",
      "Incorrect   : 179\n",
      "I don't know: 4\n",
      "\n",
      "Top 3 most common answers:\n",
      "True     325\n",
      "false    175\n",
      "-          4\n",
      "\n",
      "### not (n < 10) ###\n",
      "Correct     : 358\n",
      "Incorrect   : 148\n",
      "I don't know: 4\n",
      "\n",
      "Top 3 most common answers:\n",
      "False    357\n",
      "true     143\n",
      "-          4\n"
     ]
    }
   ],
   "source": [
    "print(\"### n < 10 ###\")\n",
    "print_task_result(\"bool4a\", df, n_answers=3)\n",
    "print()\n",
    "print(\"### 100 == n ###\")\n",
    "print_task_result(\"bool4b\", df, n_answers=3)\n",
    "print()\n",
    "print(\"### (n < 7) and (4 > n) ###\")\n",
    "print_task_result(\"bool4c\", df, n_answers=3)\n",
    "print()\n",
    "print(\"### n <= 5 ###\")\n",
    "print_task_result(\"bool4d\", df, n_answers=3)\n",
    "print()\n",
    "print(\"### not (n < 10) ###\")\n",
    "print_task_result(\"bool4e\", df, n_answers=3)"
   ]
  },
  {
   "cell_type": "markdown",
   "metadata": {},
   "source": [
    "### Booleans 5\n",
    "What are the boolean values of the following expressions?\n",
    "```python\n",
    "a = 2\n",
    "b = 3\n",
    "c = 5\n",
    "```"
   ]
  },
  {
   "cell_type": "code",
   "execution_count": null,
   "metadata": {},
   "outputs": [
    {
     "name": "stdout",
     "output_type": "stream",
     "text": [
      "### (a + b) == c ###\n",
      "Correct     : 346\n",
      "Incorrect   : 160\n",
      "I don't know: 4\n",
      "\n",
      "Top 3 most common answers:\n",
      "True     344\n",
      "false    156\n",
      "-          4\n",
      "\n",
      "### ((a * 2) < c) and ((b + a) > 5) ###\n",
      "Correct     : 338\n",
      "Incorrect   : 168\n",
      "I don't know: 4\n",
      "\n",
      "Top 3 most common answers:\n",
      "False    337\n",
      "true     163\n",
      "-          4\n",
      "\n",
      "### not ((c - a) < b) ###\n",
      "Correct     : 357\n",
      "Incorrect   : 149\n",
      "I don't know: 4\n",
      "\n",
      "Top 3 most common answers:\n",
      "True     355\n",
      "false    145\n",
      "-          4\n",
      "\n",
      "### ((a + b) == c) or ((b * 2) == c) ###\n",
      "Correct     : 345\n",
      "Incorrect   : 161\n",
      "I don't know: 4\n",
      "\n",
      "Top 3 most common answers:\n",
      "True     344\n",
      "false    156\n",
      "-          4\n",
      "\n",
      "### ((a + b) < c) and not ((b - a) < 2) ###\n",
      "Correct     : 351\n",
      "Incorrect   : 155\n",
      "I don't know: 4\n",
      "\n",
      "Top 3 most common answers:\n",
      "False    350\n",
      "true     150\n",
      "-          4\n"
     ]
    }
   ],
   "source": [
    "print(\"### (a + b) == c ###\")\n",
    "print_task_result(\"bool5a\", df, n_answers=3)\n",
    "print()\n",
    "print(\"### ((a * 2) < c) and ((b + a) > 5) ###\")\n",
    "print_task_result(\"bool5b\", df, n_answers=3)\n",
    "print()\n",
    "print(\"### not ((c - a) < b) ###\")\n",
    "print_task_result(\"bool5c\", df, n_answers=3)\n",
    "print()\n",
    "print(\"### ((a + b) == c) or ((b * 2) == c) ###\")\n",
    "print_task_result(\"bool5d\", df, n_answers=3)\n",
    "print()\n",
    "print(\"### ((a + b) < c) and not ((b - a) < 2) ###\")\n",
    "print_task_result(\"bool5e\", df, n_answers=3)"
   ]
  },
  {
   "cell_type": "markdown",
   "metadata": {},
   "source": [
    "### Booleans 6\n",
    "Assume that `a`, `b` and `c` are variables of type `int`. Consider the following expressions:\n",
    "```python\n",
    "I (a == b) and (a == c) and (b == c)\n",
    "II (a == b) or (a == c) or (b == c)\n",
    "III ((a - b) * (a - c) * (b - c)) == 0\n",
    "```\n",
    "Which of these expressions are always true if TWO of `a`. `b` and `c` equal?"
   ]
  },
  {
   "cell_type": "code",
   "execution_count": null,
   "metadata": {},
   "outputs": [
    {
     "name": "stdout",
     "output_type": "stream",
     "text": [
      "Correct     : 353\n",
      "Incorrect   : 153\n",
      "I don't know: 3\n",
      "\n",
      "Top 5 most common answers:\n",
      "iiandiii     353\n",
      "something     16\n",
      "i             13\n",
      "1             11\n",
      "0             10\n"
     ]
    }
   ],
   "source": [
    "print_task_result(\"bool6\", df)"
   ]
  },
  {
   "cell_type": "markdown",
   "metadata": {},
   "source": [
    "### Lists 1\n",
    "What does this program print?\n",
    "```python\n",
    "ls = [10, 20, 30]\n",
    "print(ls[1])\n",
    "```"
   ]
  },
  {
   "cell_type": "code",
   "execution_count": null,
   "metadata": {},
   "outputs": [
    {
     "name": "stdout",
     "output_type": "stream",
     "text": [
      "Correct     : 368\n",
      "Incorrect   : 138\n",
      "I don't know: 4\n",
      "\n",
      "Top 5 most common answers:\n",
      "20    368\n",
      "1      26\n",
      "7      26\n",
      "99     23\n",
      "42     20\n"
     ]
    }
   ],
   "source": [
    "print_task_result(\"lists1\", df)"
   ]
  },
  {
   "cell_type": "markdown",
   "metadata": {},
   "source": [
    "### Lists 2\n",
    "What does this program print?\n",
    "```python\n",
    "a = [2, 4, 7, 9]\n",
    "print(len(a))\n",
    "```"
   ]
  },
  {
   "cell_type": "code",
   "execution_count": null,
   "metadata": {},
   "outputs": [
    {
     "name": "stdout",
     "output_type": "stream",
     "text": [
      "Correct     : 355\n",
      "Incorrect   : 151\n",
      "I don't know: 4\n",
      "\n",
      "Top 5 most common answers:\n",
      "4     355\n",
      "1      32\n",
      "13     30\n",
      "0      28\n",
      "42     24\n"
     ]
    }
   ],
   "source": [
    "print_task_result(\"lists2\", df)"
   ]
  },
  {
   "cell_type": "markdown",
   "metadata": {},
   "source": [
    "### Lists 3\n",
    "What does this program print?\n",
    "```python\n",
    "a = [10, 20, 30]\n",
    "a[1] = 80\n",
    "\n",
    "print(a[1])\n",
    "```"
   ]
  },
  {
   "cell_type": "code",
   "execution_count": null,
   "metadata": {},
   "outputs": [
    {
     "name": "stdout",
     "output_type": "stream",
     "text": [
      "Correct     : 355\n",
      "Incorrect   : 151\n",
      "I don't know: 4\n",
      "\n",
      "Top 5 most common answers:\n",
      "80    355\n",
      "1      30\n",
      "42     28\n",
      "99     24\n",
      "0      24\n"
     ]
    }
   ],
   "source": [
    "print_task_result(\"lists3\", df)"
   ]
  },
  {
   "cell_type": "markdown",
   "metadata": {},
   "source": [
    "### Lists 4\n",
    "Which values does list `a`` have after line 4?\n",
    "```python\n",
    "a = [10, 20, 30]\n",
    "a[1] = a[1] + 5\n",
    "\n",
    "print(a[1])\n",
    "```"
   ]
  },
  {
   "cell_type": "code",
   "execution_count": null,
   "metadata": {},
   "outputs": [
    {
     "name": "stdout",
     "output_type": "stream",
     "text": [
      "Correct     : 337\n",
      "Incorrect   : 169\n",
      "I don't know: 4\n",
      "\n",
      "Top 5 most common answers:\n",
      "25    337\n",
      "0      37\n",
      "1      28\n",
      "7      27\n",
      "13     26\n"
     ]
    }
   ],
   "source": [
    "print_task_result(\"lists4\", df)"
   ]
  },
  {
   "cell_type": "markdown",
   "metadata": {},
   "source": [
    "### Lists 5\n",
    "What does this program print?\n",
    "```python\n",
    "a = [10, 20, 30]\n",
    "b = [5, 15, 25]\n",
    "\n",
    "b[1] = a[1] + b[1]\n",
    "```"
   ]
  },
  {
   "cell_type": "code",
   "execution_count": null,
   "metadata": {},
   "outputs": [
    {
     "name": "stdout",
     "output_type": "stream",
     "text": [
      "### List a ###\n",
      "Correct     : 345\n",
      "Incorrect   : 161\n",
      "I don't know: 4\n",
      "\n",
      "Top 5 most common answers:\n",
      "10,20,30    345\n",
      "5,5,5        57\n",
      "0,0,0        53\n",
      "1,1,1        47\n",
      "-             4\n",
      "\n",
      "### List b ###\n",
      "Correct     : 351\n",
      "Incorrect   : 155\n",
      "I don't know: 4\n",
      "\n",
      "Top 5 most common answers:\n",
      "5,35,25    351\n",
      "0,0,0       58\n",
      "5,5,5       52\n",
      "1,1,1       41\n",
      "-            4\n"
     ]
    }
   ],
   "source": [
    "print(\"### List a ###\")\n",
    "print_task_result(\"lists5a\", df)\n",
    "print(\"\\n### List b ###\")\n",
    "print_task_result(\"lists5b\", df)"
   ]
  },
  {
   "cell_type": "markdown",
   "metadata": {},
   "source": [
    "### Lists 5\n",
    "Which values does lists `a` and `b` have after line 6?\n",
    "```python\n",
    "a = [10, 20, 30]\n",
    "b = [5, 15, 25]\n",
    "\n",
    "a[1] = b[2] - 5\n",
    "b[0] = a[2] - 10\n",
    "a[2] = a[1] + b[1]\n",
    "```"
   ]
  },
  {
   "cell_type": "code",
   "execution_count": null,
   "metadata": {},
   "outputs": [
    {
     "name": "stdout",
     "output_type": "stream",
     "text": [
      "### List a ###\n",
      "Correct     : 349\n",
      "Incorrect   : 157\n",
      "I don't know: 4\n",
      "\n",
      "Top 5 most common answers:\n",
      "10,20,35    349\n",
      "5,5,5        62\n",
      "1,1,1        48\n",
      "0,0,0        43\n",
      "-             4\n",
      "\n",
      "### List b ###\n",
      "Correct     : 348\n",
      "Incorrect   : 158\n",
      "I don't know: 4\n",
      "\n",
      "Top 5 most common answers:\n",
      "20,15,25    348\n",
      "1,1,1        52\n",
      "5,5,5        51\n",
      "0,0,0        51\n",
      "-             4\n"
     ]
    }
   ],
   "source": [
    "print(\"### List a ###\")\n",
    "print_task_result(\"lists6a\", df)\n",
    "print(\"\\n### List b ###\")\n",
    "print_task_result(\"lists6b\", df)"
   ]
  },
  {
   "cell_type": "markdown",
   "metadata": {},
   "source": [
    "### Expressions 2\n",
    "What does this program print?\n",
    "```python\n",
    "a = 12\n",
    "result = a + a\n",
    "\n",
    "print(result)\n",
    "```"
   ]
  },
  {
   "cell_type": "code",
   "execution_count": null,
   "metadata": {},
   "outputs": [
    {
     "name": "stdout",
     "output_type": "stream",
     "text": [
      "Correct     : 371\n",
      "Incorrect   : 135\n",
      "I don't know: 4\n",
      "\n",
      "Top 5 most common answers:\n",
      "5     371\n",
      "7      25\n",
      "1      24\n",
      "99     23\n",
      "0      22\n"
     ]
    }
   ],
   "source": [
    "print_task_result(\"expressions1\", df)"
   ]
  },
  {
   "cell_type": "markdown",
   "metadata": {},
   "source": [
    "### Conditionals 1\n",
    "What does this program print?\n",
    "```python\n",
    "if 2 > 7:\n",
    "    print(1)\n",
    "```"
   ]
  },
  {
   "cell_type": "code",
   "execution_count": null,
   "metadata": {},
   "outputs": [
    {
     "name": "stdout",
     "output_type": "stream",
     "text": [
      "Correct     : 356\n",
      "Incorrect   : 150\n",
      "I don't know: 4\n",
      "\n",
      "Top 5 most common answers:\n",
      "nothing    356\n",
      "42          14\n",
      "False       11\n",
      "iv          10\n",
      "0           10\n"
     ]
    }
   ],
   "source": [
    "print_task_result(\"conditionals1\", df)"
   ]
  },
  {
   "cell_type": "markdown",
   "metadata": {},
   "source": [
    "### Conditionals 2\n",
    "What does this program print?\n",
    "```python\n",
    "if 10 < (2 * 3):\n",
    "    print(1)\n",
    "else:\n",
    "    print(2)\n",
    "```"
   ]
  },
  {
   "cell_type": "code",
   "execution_count": null,
   "metadata": {},
   "outputs": [
    {
     "name": "stdout",
     "output_type": "stream",
     "text": [
      "Correct     : 335\n",
      "Incorrect   : 171\n",
      "I don't know: 4\n",
      "\n",
      "Top 5 most common answers:\n",
      "2     335\n",
      "1      36\n",
      "13     34\n",
      "42     30\n",
      "7      23\n"
     ]
    }
   ],
   "source": [
    "print_task_result(\"conditionals2\", df)"
   ]
  },
  {
   "cell_type": "markdown",
   "metadata": {},
   "source": [
    "### Conditionals 3\n",
    "What does this program print?\n",
    "```python\n",
    "if (10*2) < 9:\n",
    "    print(1)\n",
    "elif 100 == 100:\n",
    "    print(2)\n",
    "else:\n",
    "    print(3)\n",
    "```"
   ]
  },
  {
   "cell_type": "code",
   "execution_count": null,
   "metadata": {},
   "outputs": [
    {
     "name": "stdout",
     "output_type": "stream",
     "text": [
      "Correct     : 348\n",
      "Incorrect   : 158\n",
      "I don't know: 4\n",
      "\n",
      "Top 5 most common answers:\n",
      "2     348\n",
      "99     37\n",
      "1      30\n",
      "7      25\n",
      "42     24\n"
     ]
    }
   ],
   "source": [
    "print_task_result(\"conditionals3\", df)"
   ]
  },
  {
   "cell_type": "markdown",
   "metadata": {},
   "source": [
    "### Conditionals 4\n",
    "What does this program print?\n",
    "```python\n",
    "a = 5\n",
    "b = 3 \n",
    "c = 9\n",
    "\n",
    "if (a < b) and (a < c):\n",
    "    num = 1\n",
    "elif (b < a) and (b < c):\n",
    "    num = 2\n",
    "else:\n",
    "    num = 3\n",
    "\n",
    "print(num)\n",
    "```"
   ]
  },
  {
   "cell_type": "code",
   "execution_count": null,
   "metadata": {},
   "outputs": [
    {
     "name": "stdout",
     "output_type": "stream",
     "text": [
      "Correct     : 346\n",
      "Incorrect   : 160\n",
      "I don't know: 4\n",
      "\n",
      "Top 5 most common answers:\n",
      "2     346\n",
      "42     36\n",
      "1      30\n",
      "99     24\n",
      "13     24\n"
     ]
    }
   ],
   "source": [
    "print_task_result(\"conditionals4\", df)"
   ]
  },
  {
   "cell_type": "markdown",
   "metadata": {},
   "source": [
    "### Conditionals 5\n",
    "Which of the following alternatives for <code>MISSING_CODE1</code> and <code>MISSING_CODE2</code> will print <code>2</code> and <code>3</code>?\n",
    "```python\n",
    "x = False\n",
    "y = True\n",
    "z = False\n",
    "\n",
    "if MISSING_CODE1:\n",
    "    print(1)\n",
    "else:\n",
    "    print(2)\n",
    "if MISSING_CODE2:\n",
    "    print(3)\n",
    "else:\n",
    "    print(4)\n",
    "```\n",
    "<b>I.</b><br><code>MISSING_CODE1</code>: <code>x or y</code><br><code>MISSING_CODE2</code>: <code>y and not x</code><br><br><b>II.</b><br><code>MISSING_CODE1</code>: <code>not y</code><br><code>MISSING_CODE2</code>: <code>x or y</code><br><br><b>III.</b><br><code>MISSING_CODE1</code>: <code>x and y</code><br><code>MISSING_CODE2</code>: <code>y and z</code><br><br><b>IV.</b><br><code>MISSING_CODE1</code>: <code>x and not y</code><br><code>MISSING_CODE2</code>: <code>not z and x</code>\",\n"
   ]
  },
  {
   "cell_type": "code",
   "execution_count": null,
   "metadata": {},
   "outputs": [
    {
     "name": "stdout",
     "output_type": "stream",
     "text": [
      "Correct     : 354\n",
      "Incorrect   : 152\n",
      "I don't know: 3\n",
      "\n",
      "Top 5 most common answers:\n",
      "ii       354\n",
      "i         25\n",
      "none      25\n",
      "maybe     23\n",
      "iv        21\n"
     ]
    }
   ],
   "source": [
    "print_task_result(\"conditionals5\", df)"
   ]
  },
  {
   "cell_type": "markdown",
   "metadata": {},
   "source": [
    "### Loops 1\n",
    "What does this program print?\n",
    "```python\n",
    "n = 0\n",
    "while n < 10:\n",
    "    n = n + 1\n",
    "    \n",
    "print(n) \n",
    "```"
   ]
  },
  {
   "cell_type": "code",
   "execution_count": null,
   "metadata": {},
   "outputs": [
    {
     "name": "stdout",
     "output_type": "stream",
     "text": [
      "Correct     : 348\n",
      "Incorrect   : 158\n",
      "I don't know: 4\n",
      "\n",
      "Top 5 most common answers:\n",
      "10    348\n",
      "13     31\n",
      "99     28\n",
      "0      26\n",
      "7      24\n"
     ]
    }
   ],
   "source": [
    "print_task_result(\"loops1\", df)"
   ]
  },
  {
   "cell_type": "markdown",
   "metadata": {},
   "source": [
    "### Loops 2\n",
    "What does this program print?\n",
    "```python\n",
    "n = 100\n",
    "while n < 10:\n",
    "    n = n + 2\n",
    "    \n",
    "print(n) \n",
    "```"
   ]
  },
  {
   "cell_type": "code",
   "execution_count": null,
   "metadata": {},
   "outputs": [
    {
     "name": "stdout",
     "output_type": "stream",
     "text": [
      "Correct     : 357\n",
      "Incorrect   : 149\n",
      "I don't know: 4\n",
      "\n",
      "Top 5 most common answers:\n",
      "100    357\n",
      "13      32\n",
      "7       27\n",
      "1       23\n",
      "99      23\n"
     ]
    }
   ],
   "source": [
    "print_task_result(\"loops2\", df)"
   ]
  },
  {
   "cell_type": "markdown",
   "metadata": {},
   "source": [
    "### Loops 3\n",
    "Which of the following statements best describes the execution of the while loop?\n",
    "```python\n",
    "i = 1\n",
    "j = 0\n",
    "while j < 10:\n",
    "    print('Book', i)\n",
    "    i = i + 1\n",
    "```\n",
    "<strong>I) </strong>When j is less than 10, print \\\"Book i\\\", e.g.,<br></br><code>Book 1</code><br></br><code>Book 2</code><br></br>...<br></br><code>Book 9</code><br></br><strong>II) </strong>When j is less than 10, print \\\"Book j\\\", e.g.,<br></br><code>Book 0</code><br></br><code>Book 1</code><br></br>...<br></br><code>Book 9</code><br></br><strong>III) </strong>j is always equal to 0, which is less than 10; so print \\\"Book 0\\\" an infinite number of times, e.g.,<br></br><code>Book 0</code><br></br><code>Book 0</code><br></br><code>...</code><br></br><strong>IV) </strong>j is always equal to 0, which is less than 10; so print \\\"Book i\\\" an infinite number of times, e.g.<br></br><code>Book 1</code><br></br><code>Book 2</code><br></br>...<br></br><strong>V) </strong>j is equal to 0, which is less than 10; so print<br></br><code>Book 1</code>\n"
   ]
  },
  {
   "cell_type": "code",
   "execution_count": null,
   "metadata": {},
   "outputs": [
    {
     "name": "stdout",
     "output_type": "stream",
     "text": [
      "Correct     : 359\n",
      "Incorrect   : 147\n",
      "I don't know: 3\n",
      "\n",
      "Top 5 most common answers:\n",
      "iv           359\n",
      "something     24\n",
      "none          22\n",
      "v             22\n",
      "maybe         20\n"
     ]
    }
   ],
   "source": [
    "print_task_result(\"loops3\", df)"
   ]
  },
  {
   "cell_type": "markdown",
   "metadata": {},
   "source": [
    "### Loops 4\n",
    "What does this program print?\n",
    "```python\n",
    "n = 5\n",
    "while n > 0:\n",
    "    print(n)\n",
    "    n = n - 2\n",
    "```"
   ]
  },
  {
   "cell_type": "code",
   "execution_count": null,
   "metadata": {},
   "outputs": [
    {
     "name": "stdout",
     "output_type": "stream",
     "text": [
      "Correct     : 359\n",
      "Incorrect   : 147\n",
      "I don't know: 4\n",
      "\n",
      "Top 5 most common answers:\n",
      "5 3 1      359\n",
      "2 3 4       55\n",
      "5 6         48\n",
      "1 1 1 1     40\n",
      "-            4\n"
     ]
    }
   ],
   "source": [
    "print_task_result(\"loops4\", df)"
   ]
  },
  {
   "cell_type": "markdown",
   "metadata": {},
   "source": [
    "### Loops 5\n",
    "What does this program print?\n",
    "```python\n",
    "n = 6\n",
    "while n > 0:\n",
    "    print(n)\n",
    "    if n > 3:\n",
    "        n = n - 2\n",
    "    else:\n",
    "        n = n - 1\n",
    "```"
   ]
  },
  {
   "cell_type": "code",
   "execution_count": null,
   "metadata": {},
   "outputs": [
    {
     "name": "stdout",
     "output_type": "stream",
     "text": [
      "Correct     : 359\n",
      "Incorrect   : 147\n",
      "I don't know: 4\n",
      "\n",
      "Top 5 most common answers:\n",
      "6 4 2 1    359\n",
      "1 1 1 1     49\n",
      "5 6         49\n",
      "2 3 4       45\n",
      "-            4\n"
     ]
    }
   ],
   "source": [
    "print_task_result(\"loops5\", df)"
   ]
  },
  {
   "cell_type": "markdown",
   "metadata": {},
   "source": [
    "### Loops 6\n",
    "In which of the following cases is it NOT appropriate to use a for loop?\n",
    "- I. When I want to print all the values in a list at the end of the program.\n",
    "- II. When I want to repeat something a certain number of times.\n",
    "- III. When I want to count over a range of numbers.\n",
    "- IV. When I want to perform the same operation on different elements of a list.\n",
    "- V. When I want to iterate until a certain condition is met."
   ]
  },
  {
   "cell_type": "code",
   "execution_count": null,
   "metadata": {},
   "outputs": [
    {
     "name": "stdout",
     "output_type": "stream",
     "text": [
      "Correct     : 349\n",
      "Incorrect   : 157\n",
      "I don't know: 4\n",
      "\n",
      "Top 5 most common answers:\n",
      "v            349\n",
      "iv            28\n",
      "iii           28\n",
      "ii            27\n",
      "something     24\n"
     ]
    }
   ],
   "source": [
    "print_task_result(\"loops6\", df)"
   ]
  },
  {
   "cell_type": "markdown",
   "metadata": {},
   "source": [
    "### Loops 7\n",
    "What does this program print?\n",
    "```python\n",
    "n = 0\n",
    "ls = [1, 1, 3]\n",
    "for e in ls:\n",
    "    n = n + 1\n",
    "\n",
    "print(n)\n",
    "```"
   ]
  },
  {
   "cell_type": "code",
   "execution_count": null,
   "metadata": {},
   "outputs": [
    {
     "name": "stdout",
     "output_type": "stream",
     "text": [
      "Correct     : 372\n",
      "Incorrect   : 134\n",
      "I don't know: 4\n",
      "\n",
      "Top 5 most common answers:\n",
      "3     372\n",
      "99     26\n",
      "0      23\n",
      "42     23\n",
      "7      22\n"
     ]
    }
   ],
   "source": [
    "print_task_result(\"loops7\", df)"
   ]
  },
  {
   "cell_type": "markdown",
   "metadata": {},
   "source": [
    "### Loops 8\n",
    "What does this program print?\n",
    "```python\n",
    "ls = [1, 2, 3]\n",
    "for x in ls:\n",
    "    print(1)\n",
    "print(2)\n",
    "```"
   ]
  },
  {
   "cell_type": "code",
   "execution_count": null,
   "metadata": {},
   "outputs": [
    {
     "name": "stdout",
     "output_type": "stream",
     "text": [
      "Correct     : 341\n",
      "Incorrect   : 165\n",
      "I don't know: 4\n",
      "\n",
      "Top 5 most common answers:\n",
      "1 1 1 2    341\n",
      "5 6         58\n",
      "2 3 4       54\n",
      "1 1 1 1     49\n",
      "-            4\n"
     ]
    }
   ],
   "source": [
    "print_task_result(\"loops8\", df)"
   ]
  },
  {
   "cell_type": "markdown",
   "metadata": {},
   "source": [
    "### Loops 9\n",
    "What does this program print?\n",
    "```python\n",
    "n = 0\n",
    "ls = [6, 3, 1, 0, 2]\n",
    "for e in ls:\n",
    "    n = n + e\n",
    "\n",
    "print(n)\n",
    "```"
   ]
  },
  {
   "cell_type": "code",
   "execution_count": null,
   "metadata": {},
   "outputs": [
    {
     "name": "stdout",
     "output_type": "stream",
     "text": [
      "Correct     : 363\n",
      "Incorrect   : 143\n",
      "I don't know: 4\n",
      "\n",
      "Top 5 most common answers:\n",
      "12    363\n",
      "42     29\n",
      "13     29\n",
      "0      27\n",
      "1      22\n"
     ]
    }
   ],
   "source": [
    "print_task_result(\"loops9\", df)"
   ]
  },
  {
   "cell_type": "markdown",
   "metadata": {},
   "source": [
    "### Loops 10\n",
    "What does this program print?\n",
    "```python\n",
    "n = 0\n",
    "ls = [-1, 4, -3, 0, -10, 5]\n",
    "for e in ls:\n",
    "    if e > 0:\n",
    "        n = n + e\n",
    "\n",
    "print(n)\n",
    "```"
   ]
  },
  {
   "cell_type": "code",
   "execution_count": null,
   "metadata": {},
   "outputs": [
    {
     "name": "stdout",
     "output_type": "stream",
     "text": [
      "Correct     : 374\n",
      "Incorrect   : 132\n",
      "I don't know: 4\n",
      "\n",
      "Top 5 most common answers:\n",
      "9     374\n",
      "99     29\n",
      "1      26\n",
      "42     21\n",
      "7      19\n"
     ]
    }
   ],
   "source": [
    "print_task_result(\"loops10\", df)"
   ]
  },
  {
   "cell_type": "markdown",
   "metadata": {},
   "source": [
    "### Loops 11\n",
    "What does this program print?\n",
    "```python\n",
    "n = 0\n",
    "ls = [1, 2, 3]\n",
    "for x in ls:\n",
    "    for y in ls:\n",
    "        n = n + 1\n",
    "print(n)\n",
    "```"
   ]
  },
  {
   "cell_type": "code",
   "execution_count": null,
   "metadata": {},
   "outputs": [
    {
     "name": "stdout",
     "output_type": "stream",
     "text": [
      "Correct     : 334\n",
      "Incorrect   : 172\n",
      "I don't know: 4\n",
      "\n",
      "Top 5 most common answers:\n",
      "9     334\n",
      "99     34\n",
      "1      32\n",
      "7      31\n",
      "13     28\n"
     ]
    }
   ],
   "source": [
    "print_task_result(\"loops11\", df)"
   ]
  },
  {
   "cell_type": "markdown",
   "metadata": {},
   "source": [
    "### Functions 1\n",
    "What does this program print?\n",
    "```python\n",
    "def f(x):\n",
    "    x = x + 2\n",
    "    return x - 1\n",
    "\n",
    "print(f(6))\n",
    "```"
   ]
  },
  {
   "cell_type": "code",
   "execution_count": null,
   "metadata": {},
   "outputs": [
    {
     "name": "stdout",
     "output_type": "stream",
     "text": [
      "Correct     : 349\n",
      "Incorrect   : 157\n",
      "I don't know: 4\n",
      "\n",
      "Top 5 most common answers:\n",
      "7     349\n",
      "0      42\n",
      "99     35\n",
      "13     27\n",
      "42     25\n"
     ]
    }
   ],
   "source": [
    "print_task_result(\"functions1\", df)"
   ]
  },
  {
   "cell_type": "markdown",
   "metadata": {},
   "source": [
    "### Functions 2\n",
    "What does this program print?\n",
    "```python\n",
    "def f():\n",
    "    print(1)\n",
    "    print(2)\n",
    "\n",
    "f()\n",
    "f()\n",
    "```"
   ]
  },
  {
   "cell_type": "code",
   "execution_count": null,
   "metadata": {},
   "outputs": [
    {
     "name": "stdout",
     "output_type": "stream",
     "text": [
      "Correct     : 335\n",
      "Incorrect   : 171\n",
      "I don't know: 4\n",
      "\n",
      "Top 5 most common answers:\n",
      "1 2 1 2    335\n",
      "5 6         63\n",
      "1 1 1 1     53\n",
      "2 3 4       51\n",
      "-            4\n"
     ]
    }
   ],
   "source": [
    "print_task_result(\"functions2\", df)"
   ]
  },
  {
   "cell_type": "markdown",
   "metadata": {},
   "source": [
    "### Functions 3\n",
    "Which of the following statements best describes the execution of the function call <code>add(8, 5, 12)</code>\n",
    "```python\n",
    "def add(a, b, c):\n",
    "    max = 0\n",
    "    if (a < b) and (a < c):\n",
    "        max = b + c\n",
    "        return max\n",
    "    elif (b < a) and (b < c):\n",
    "        max = a + c\n",
    "        return max\n",
    "    else:\n",
    "        max = a + b\n",
    "        return max\n",
    "    print(max)\n",
    "\n",
    "add(8, 5, 12)\n",
    "```\n",
    "- I. Value of max = 13\n",
    "- II. \"After printing the max sum, add will return the max\n",
    "- III. Nothing will ever be returned from this function\n",
    "- IV. Nothing will ever be printed from this function\n",
    "- V. An error will be generated for attempting to print after returning max"
   ]
  },
  {
   "cell_type": "code",
   "execution_count": null,
   "metadata": {},
   "outputs": [
    {
     "name": "stdout",
     "output_type": "stream",
     "text": [
      "Correct     : 357\n",
      "Incorrect   : 149\n",
      "I don't know: 3\n",
      "\n",
      "Top 5 most common answers:\n",
      "iv     357\n",
      "iii     26\n",
      "ii      21\n",
      "i       20\n",
      "v       20\n"
     ]
    }
   ],
   "source": [
    "print_task_result(\"functions3\", df)"
   ]
  },
  {
   "cell_type": "markdown",
   "metadata": {},
   "source": [
    "### Functions 4\n",
    "Consider the following function, <b>between</b>, which is intended to return true if <code>x</code> is between <code>lower</code> and <code>upper</code>, and false otherwise.<br></br>Which of the following can be used to replace <code># Missing code</code> so that <b>between</b> will work as intended?\n",
    "```python\n",
    "def between(x, lower, upper):\n",
    "    # Missing code\n",
    "```"
   ]
  },
  {
   "cell_type": "code",
   "execution_count": null,
   "metadata": {},
   "outputs": [
    {
     "name": "stdout",
     "output_type": "stream",
     "text": [
      "Correct     : 365\n",
      "Incorrect   : 141\n",
      "I don't know: 4\n",
      "\n",
      "Top 5 most common answers:\n",
      "iii          365\n",
      "v             23\n",
      "none          23\n",
      "ii            21\n",
      "something     21\n"
     ]
    }
   ],
   "source": [
    "print_task_result(\"functions4\", df)"
   ]
  },
  {
   "cell_type": "markdown",
   "metadata": {},
   "source": [
    "### Functions 5\n",
    "Which of the following can be used to replace the body of the function <code>calculate</code> so that the modified version of <code>calculate</code> will return the same result as the original version for all x?\n",
    "```python\n",
    "def calculate(x):\n",
    "    x = x + x\n",
    "    x = x + x\n",
    "    x = x + x\n",
    "    return x\n",
    "```\n",
    "- I. return 3 + x\n",
    "- II. return 3 * x\n",
    "- III. return 4 + x\n",
    "- IV. return 4 * x\n",
    "- V. return 8 * x"
   ]
  },
  {
   "cell_type": "code",
   "execution_count": null,
   "metadata": {},
   "outputs": [
    {
     "name": "stdout",
     "output_type": "stream",
     "text": [
      "Correct     : 376\n",
      "Incorrect   : 130\n",
      "I don't know: 4\n",
      "\n",
      "Top 5 most common answers:\n",
      "v        376\n",
      "iv        22\n",
      "maybe     21\n",
      "iii       21\n",
      "none      20\n"
     ]
    }
   ],
   "source": [
    "print_task_result(\"functions5\", df)"
   ]
  },
  {
   "cell_type": "markdown",
   "metadata": {},
   "source": [
    "### Functions 6\n",
    "What does this program print?\n",
    "```python\n",
    "def f(x):\n",
    "    return 2 * x\n",
    "\n",
    "x = 5\n",
    "a = f(x)\n",
    "b = f(x)\n",
    "\n",
    "print(a)\n",
    "print(b)\n",
    "```"
   ]
  },
  {
   "cell_type": "code",
   "execution_count": null,
   "metadata": {},
   "outputs": [
    {
     "name": "stdout",
     "output_type": "stream",
     "text": [
      "#### a ###\n",
      "Correct     : 360\n",
      "Incorrect   : 146\n",
      "I don't know: 4\n",
      "\n",
      "Top 5 most common answers:\n",
      "10    360\n",
      "0      35\n",
      "13     28\n",
      "42     24\n",
      "7      21\n",
      "\n",
      "#### b ###\n",
      "Correct     : 351\n",
      "Incorrect   : 155\n",
      "I don't know: 4\n",
      "\n",
      "Top 5 most common answers:\n",
      "10    351\n",
      "13     31\n",
      "7      28\n",
      "42     28\n",
      "99     27\n"
     ]
    }
   ],
   "source": [
    "print(\"#### a ###\")\n",
    "print_task_result(\"functions6a\", df)\n",
    "print(\"\\n#### b ###\")\n",
    "print_task_result(\"functions6b\", df)"
   ]
  },
  {
   "cell_type": "markdown",
   "metadata": {},
   "source": [
    "### Functions 7a\n",
    "What does this program print?\n",
    "```python\n",
    "def f(x):\n",
    "    x = x + 2\n",
    "    return x - 1\n",
    "\n",
    "def g(x):\n",
    "    x = f(x) + 3\n",
    "    return x\n",
    "\n",
    "print(f(2) + f(3))\n",
    "```"
   ]
  },
  {
   "cell_type": "code",
   "execution_count": null,
   "metadata": {},
   "outputs": [
    {
     "name": "stdout",
     "output_type": "stream",
     "text": [
      "Correct     : 358\n",
      "Incorrect   : 148\n",
      "I don't know: 4\n",
      "\n",
      "Top 5 most common answers:\n",
      "7     358\n",
      "42     39\n",
      "0      29\n",
      "1      28\n",
      "99     25\n"
     ]
    }
   ],
   "source": [
    "print_task_result(\"functions7a\", df)"
   ]
  },
  {
   "cell_type": "markdown",
   "metadata": {},
   "source": [
    "### Functions 7b\n",
    "What does this program print?\n",
    "```python\n",
    "def f(x):\n",
    "    x = x + 2\n",
    "    return x - 1\n",
    "\n",
    "def g(x):\n",
    "    x = f(x) + 3\n",
    "    return x\n",
    "\n",
    "print(g(3))\n",
    "```"
   ]
  },
  {
   "cell_type": "code",
   "execution_count": null,
   "metadata": {},
   "outputs": [
    {
     "name": "stdout",
     "output_type": "stream",
     "text": [
      "Correct     : 363\n",
      "Incorrect   : 143\n",
      "I don't know: 4\n",
      "\n",
      "Top 5 most common answers:\n",
      "7     363\n",
      "13     33\n",
      "1      28\n",
      "0      28\n",
      "99     26\n"
     ]
    }
   ],
   "source": [
    "print_task_result(\"functions7b\", df)"
   ]
  },
  {
   "cell_type": "markdown",
   "metadata": {},
   "source": [
    "### Functions 7c\n",
    "What does this program print?\n",
    "```python\n",
    "def f(x):\n",
    "    x = x + 2\n",
    "    return x - 1\n",
    "\n",
    "def g(x):\n",
    "    x = f(x) + 3\n",
    "    return x\n",
    "\n",
    "print(f(g(5)))\n",
    "```"
   ]
  },
  {
   "cell_type": "code",
   "execution_count": null,
   "metadata": {},
   "outputs": [
    {
     "name": "stdout",
     "output_type": "stream",
     "text": [
      "Correct     : 356\n",
      "Incorrect   : 150\n",
      "I don't know: 4\n",
      "\n",
      "Top 5 most common answers:\n",
      "10    356\n",
      "13     28\n",
      "0      27\n",
      "42     26\n",
      "1      24\n"
     ]
    }
   ],
   "source": [
    "print_task_result(\"functions7c\", df)"
   ]
  },
  {
   "cell_type": "markdown",
   "metadata": {},
   "source": [
    "# Student Comments\n",
    "At the end of the test students were prompted with the following text:\n",
    "```\n",
    "Do you have any comments about the test?\n",
    "If you thought this was hard, have no worries :) You will learn all this in the coming semester.\n",
    "```"
   ]
  },
  {
   "cell_type": "code",
   "execution_count": null,
   "metadata": {},
   "outputs": [
    {
     "name": "stdout",
     "output_type": "stream",
     "text": [
      "Test al correct\n",
      "Interesting.\n",
      "Interesting.\n",
      "Good test.\n",
      "Good test.\n",
      "Too hard.\n",
      "Too hard.\n",
      "Too hard.\n",
      "nan\n",
      "Interesting.\n",
      "Too hard.\n",
      "Good test.\n",
      "Good test.\n",
      "Too hard.\n",
      "Good test.\n",
      "nan\n",
      "Interesting.\n",
      "nan\n",
      "Good test.\n",
      "Interesting.\n",
      "Too hard.\n",
      "Too hard.\n",
      "Too hard.\n",
      "Good test.\n",
      "nan\n",
      "Too hard.\n",
      "Good test.\n",
      "Good test.\n",
      "nan\n",
      "Good test.\n",
      "Interesting.\n",
      "Interesting.\n",
      "Interesting.\n",
      "Too hard.\n",
      "Interesting.\n",
      "Good test.\n",
      "Good test.\n",
      "Good test.\n",
      "nan\n",
      "Interesting.\n",
      "nan\n",
      "Interesting.\n",
      "Interesting.\n",
      "Interesting.\n",
      "Too hard.\n",
      "Interesting.\n",
      "Interesting.\n",
      "nan\n",
      "nan\n",
      "Too hard.\n",
      "Interesting.\n",
      "nan\n",
      "nan\n",
      "nan\n",
      "Too hard.\n",
      "Interesting.\n",
      "Good test.\n",
      "Good test.\n",
      "Interesting.\n",
      "Interesting.\n",
      "nan\n",
      "Too hard.\n",
      "Good test.\n",
      "Interesting.\n",
      "Interesting.\n",
      "Interesting.\n",
      "Interesting.\n",
      "Too hard.\n",
      "nan\n",
      "nan\n",
      "Good test.\n",
      "nan\n",
      "nan\n",
      "Good test.\n",
      "nan\n",
      "Good test.\n",
      "Too hard.\n",
      "nan\n",
      "nan\n",
      "Good test.\n",
      "Too hard.\n",
      "Interesting.\n",
      "Interesting.\n",
      "nan\n",
      "nan\n",
      "nan\n",
      "Interesting.\n",
      "nan\n",
      "Good test.\n",
      "nan\n",
      "nan\n",
      "Too hard.\n",
      "nan\n",
      "Good test.\n",
      "Interesting.\n",
      "Too hard.\n",
      "nan\n",
      "nan\n",
      "Good test.\n",
      "Interesting.\n",
      "Good test.\n",
      "nan\n",
      "Good test.\n",
      "Good test.\n",
      "nan\n",
      "nan\n",
      "Interesting.\n",
      "nan\n",
      "Good test.\n",
      "Interesting.\n",
      "nan\n",
      "Too hard.\n",
      "nan\n",
      "Too hard.\n",
      "nan\n",
      "Good test.\n",
      "Good test.\n",
      "Interesting.\n",
      "Too hard.\n",
      "Interesting.\n",
      "Interesting.\n",
      "Too hard.\n",
      "Too hard.\n",
      "Good test.\n",
      "Good test.\n",
      "Too hard.\n",
      "nan\n",
      "Too hard.\n",
      "Too hard.\n",
      "nan\n",
      "Interesting.\n",
      "Too hard.\n",
      "Interesting.\n",
      "Interesting.\n",
      "Good test.\n",
      "nan\n",
      "Good test.\n",
      "Interesting.\n",
      "Good test.\n",
      "Interesting.\n",
      "Good test.\n",
      "nan\n",
      "nan\n",
      "Interesting.\n",
      "Good test.\n",
      "Good test.\n",
      "Too hard.\n",
      "Good test.\n",
      "nan\n",
      "Interesting.\n",
      "Too hard.\n",
      "nan\n",
      "Interesting.\n",
      "Interesting.\n",
      "Too hard.\n",
      "Interesting.\n",
      "Too hard.\n",
      "Good test.\n",
      "nan\n",
      "Interesting.\n",
      "nan\n",
      "Good test.\n",
      "Good test.\n",
      "nan\n",
      "Interesting.\n",
      "Too hard.\n",
      "Good test.\n",
      "Interesting.\n",
      "Interesting.\n",
      "nan\n",
      "Good test.\n",
      "Too hard.\n",
      "Interesting.\n",
      "Too hard.\n",
      "Too hard.\n",
      "nan\n",
      "Interesting.\n",
      "Interesting.\n",
      "Interesting.\n",
      "nan\n",
      "Interesting.\n",
      "Good test.\n",
      "Good test.\n",
      "Good test.\n",
      "nan\n",
      "Good test.\n",
      "nan\n",
      "Too hard.\n",
      "Too hard.\n",
      "nan\n",
      "Good test.\n",
      "nan\n",
      "Good test.\n",
      "Good test.\n",
      "Too hard.\n",
      "nan\n",
      "Interesting.\n",
      "Too hard.\n",
      "Good test.\n",
      "Good test.\n",
      "Too hard.\n",
      "Too hard.\n",
      "Too hard.\n",
      "Too hard.\n",
      "nan\n",
      "Interesting.\n",
      "Good test.\n",
      "Too hard.\n",
      "Good test.\n",
      "Interesting.\n",
      "Interesting.\n",
      "Interesting.\n",
      "Too hard.\n",
      "nan\n",
      "Good test.\n",
      "Good test.\n",
      "nan\n",
      "nan\n",
      "Interesting.\n",
      "nan\n",
      "Good test.\n",
      "Too hard.\n",
      "nan\n",
      "Good test.\n",
      "Interesting.\n",
      "Too hard.\n",
      "nan\n",
      "Interesting.\n",
      "Interesting.\n",
      "Good test.\n",
      "Good test.\n",
      "Good test.\n",
      "Good test.\n",
      "Interesting.\n",
      "Too hard.\n",
      "Interesting.\n",
      "nan\n",
      "Good test.\n",
      "Too hard.\n",
      "nan\n",
      "Good test.\n",
      "nan\n",
      "Too hard.\n",
      "nan\n",
      "nan\n",
      "Too hard.\n",
      "Too hard.\n",
      "Good test.\n",
      "nan\n",
      "Interesting.\n",
      "Interesting.\n",
      "nan\n",
      "Too hard.\n",
      "Interesting.\n",
      "nan\n",
      "Interesting.\n",
      "Good test.\n",
      "Too hard.\n",
      "Interesting.\n",
      "Good test.\n",
      "Good test.\n",
      "Good test.\n",
      "Good test.\n",
      "Interesting.\n",
      "Interesting.\n",
      "nan\n",
      "Too hard.\n",
      "nan\n",
      "Good test.\n",
      "Good test.\n",
      "Interesting.\n",
      "nan\n",
      "Good test.\n",
      "nan\n",
      "Too hard.\n",
      "Too hard.\n",
      "Too hard.\n",
      "Good test.\n",
      "Good test.\n",
      "Interesting.\n",
      "Good test.\n",
      "Too hard.\n",
      "Interesting.\n",
      "nan\n",
      "Too hard.\n",
      "Interesting.\n",
      "Good test.\n",
      "Too hard.\n",
      "Interesting.\n",
      "nan\n",
      "nan\n",
      "Too hard.\n",
      "Too hard.\n",
      "Too hard.\n",
      "nan\n",
      "Interesting.\n",
      "nan\n",
      "Too hard.\n",
      "nan\n",
      "Good test.\n",
      "Interesting.\n",
      "nan\n",
      "Interesting.\n",
      "Too hard.\n",
      "Too hard.\n",
      "Interesting.\n",
      "Too hard.\n",
      "nan\n",
      "Too hard.\n",
      "Good test.\n",
      "Interesting.\n",
      "nan\n",
      "Good test.\n",
      "Too hard.\n",
      "Too hard.\n",
      "nan\n",
      "Interesting.\n",
      "Too hard.\n",
      "Too hard.\n",
      "Good test.\n",
      "Too hard.\n",
      "Too hard.\n",
      "Interesting.\n",
      "nan\n",
      "Good test.\n",
      "Good test.\n",
      "Too hard.\n",
      "Good test.\n",
      "Too hard.\n",
      "nan\n",
      "Too hard.\n",
      "Good test.\n",
      "Too hard.\n",
      "Too hard.\n",
      "Too hard.\n",
      "Interesting.\n",
      "Good test.\n",
      "Interesting.\n",
      "Too hard.\n",
      "Interesting.\n",
      "Good test.\n",
      "Too hard.\n",
      "Good test.\n",
      "Interesting.\n",
      "nan\n",
      "nan\n",
      "Good test.\n",
      "nan\n",
      "Good test.\n",
      "Too hard.\n",
      "Too hard.\n",
      "Good test.\n",
      "Good test.\n",
      "Interesting.\n",
      "Too hard.\n",
      "nan\n",
      "Interesting.\n",
      "Good test.\n",
      "Good test.\n",
      "Too hard.\n",
      "Good test.\n",
      "Good test.\n",
      "nan\n",
      "nan\n",
      "Too hard.\n",
      "Too hard.\n",
      "nan\n",
      "Good test.\n",
      "Good test.\n",
      "Interesting.\n",
      "Good test.\n",
      "Good test.\n",
      "Too hard.\n",
      "Good test.\n",
      "Too hard.\n",
      "Good test.\n",
      "Interesting.\n",
      "Good test.\n",
      "Good test.\n",
      "nan\n",
      "Good test.\n",
      "Too hard.\n",
      "nan\n",
      "nan\n",
      "Too hard.\n",
      "nan\n",
      "Good test.\n",
      "nan\n",
      "Too hard.\n",
      "Too hard.\n",
      "Good test.\n",
      "Too hard.\n",
      "nan\n",
      "Good test.\n",
      "Good test.\n",
      "Interesting.\n",
      "Interesting.\n",
      "Too hard.\n",
      "Too hard.\n",
      "Too hard.\n",
      "nan\n",
      "nan\n",
      "Good test.\n",
      "Good test.\n",
      "nan\n",
      "Interesting.\n",
      "Too hard.\n",
      "Interesting.\n",
      "nan\n",
      "nan\n",
      "nan\n",
      "nan\n",
      "nan\n",
      "Good test.\n",
      "nan\n",
      "Interesting.\n",
      "Interesting.\n",
      "Good test.\n",
      "nan\n",
      "nan\n",
      "Good test.\n",
      "nan\n",
      "nan\n",
      "nan\n",
      "Too hard.\n",
      "Interesting.\n",
      "Interesting.\n",
      "Good test.\n",
      "nan\n",
      "nan\n",
      "nan\n",
      "Good test.\n",
      "Good test.\n",
      "Too hard.\n",
      "Good test.\n",
      "Good test.\n",
      "Interesting.\n",
      "Too hard.\n",
      "nan\n",
      "Too hard.\n",
      "Interesting.\n",
      "nan\n",
      "nan\n",
      "Good test.\n",
      "Interesting.\n",
      "Good test.\n",
      "nan\n",
      "nan\n",
      "nan\n",
      "Too hard.\n",
      "Interesting.\n",
      "Too hard.\n",
      "nan\n",
      "Good test.\n",
      "Interesting.\n",
      "Interesting.\n",
      "nan\n",
      "nan\n",
      "Good test.\n",
      "Good test.\n",
      "Too hard.\n",
      "Interesting.\n",
      "Good test.\n",
      "Interesting.\n",
      "Good test.\n",
      "Interesting.\n",
      "Too hard.\n",
      "Interesting.\n",
      "Interesting.\n",
      "Too hard.\n",
      "Interesting.\n",
      "Too hard.\n",
      "nan\n",
      "Too hard.\n",
      "Good test.\n",
      "Good test.\n",
      "Interesting.\n",
      "Good test.\n",
      "Good test.\n",
      "Interesting.\n",
      "Good test.\n",
      "Good test.\n",
      "Interesting.\n",
      "Interesting.\n",
      "nan\n",
      "nan\n",
      "Too hard.\n",
      "Interesting.\n",
      "Good test.\n",
      "nan\n",
      "nan\n",
      "Too hard.\n",
      "Interesting.\n",
      "Too hard.\n",
      "nan\n",
      "nan\n",
      "Too hard.\n",
      "nan\n",
      "Too hard.\n",
      "Good test.\n",
      "Too hard.\n",
      "Interesting.\n"
     ]
    }
   ],
   "source": [
    "for comment in df['comments']:\n",
    "    if comment == \"-\":\n",
    "        continue\n",
    "    print(comment)"
   ]
  },
  {
   "cell_type": "code",
   "execution_count": null,
   "metadata": {},
   "outputs": [],
   "source": []
  }
 ],
 "metadata": {
  "kernelspec": {
   "display_name": "Python 3",
   "language": "python",
   "name": "python3"
  },
  "language_info": {
   "codemirror_mode": {
    "name": "ipython",
    "version": 3
   },
   "file_extension": ".py",
   "mimetype": "text/x-python",
   "name": "python",
   "nbconvert_exporter": "python",
   "pygments_lexer": "ipython3",
   "version": "3.12.5"
  }
 },
 "nbformat": 4,
 "nbformat_minor": 4
}
